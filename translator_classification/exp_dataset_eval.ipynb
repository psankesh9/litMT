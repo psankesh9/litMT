{
 "cells": [
  {
   "cell_type": "markdown",
   "metadata": {},
   "source": [
    "# Evaluating the Experiment Dataset"
   ]
  },
  {
   "cell_type": "code",
   "execution_count": 1,
   "metadata": {},
   "outputs": [],
   "source": [
    "import os\n",
    "os.environ[\"CUDA_VISIBLE_DEVICES\"] = \"0\""
   ]
  },
  {
   "cell_type": "code",
   "execution_count": 2,
   "metadata": {},
   "outputs": [
    {
     "name": "stdout",
     "output_type": "stream",
     "text": [
      "cuda\n"
     ]
    }
   ],
   "source": [
    "import torch\n",
    "\n",
    "if torch.cuda.is_available():\n",
    "  dev = \"cuda\"\n",
    "else:\n",
    "  dev = \"cpu\"\n",
    "device = torch.device(dev)\n",
    "\n",
    "print(device)"
   ]
  },
  {
   "cell_type": "markdown",
   "metadata": {},
   "source": [
    "### Load in Train/Test/Val Datasets & Preprocess for Tokenization"
   ]
  },
  {
   "cell_type": "code",
   "execution_count": 3,
   "metadata": {},
   "outputs": [
    {
     "name": "stdout",
     "output_type": "stream",
     "text": [
      "train size:  (17735, 8)\n",
      "val size:  (1175, 8)\n",
      "test size:  (1175, 8)\n",
      "train size:  17735\n",
      "val size:  1175\n",
      "test size:  1175\n"
     ]
    }
   ],
   "source": [
    "import pandas as pd \n",
    "\n",
    "train_df = pd.read_pickle(\"/home/kkatsy/litMT/experiment_dataset/aligned_train_df.pickle\")  \n",
    "test_df = pd.read_pickle(\"/home/kkatsy/litMT/experiment_dataset/experiment_test_df.pickle\") \n",
    "val_df = pd.read_pickle(\"/home/kkatsy/litMT/experiment_dataset/experiment_val_df.pickle\") \n",
    "\n",
    "print('train size: ', train_df.shape)\n",
    "print('val size: ', val_df.shape)\n",
    "print('test size: ', test_df.shape)\n",
    "\n",
    "sentences = {}\n",
    "sentences['train'] = [{'label': row['labels'], 'text':row['concat']} for i, row in train_df.iterrows()]\n",
    "sentences['test'] = [{'label': row['labels'], 'text':row['concat']} for i, row in test_df.iterrows()]\n",
    "sentences['val'] = [{'label': row['labels'], 'text':row['concat']} for i, row in val_df.iterrows()]\n",
    "\n",
    "print('train size: ', len(sentences['train']))\n",
    "print('val size: ', len(sentences['val']))\n",
    "print('test size: ', len(sentences['test']))"
   ]
  },
  {
   "cell_type": "code",
   "execution_count": 46,
   "metadata": {},
   "outputs": [
    {
     "data": {
      "text/html": [
       "<div>\n",
       "<style scoped>\n",
       "    .dataframe tbody tr th:only-of-type {\n",
       "        vertical-align: middle;\n",
       "    }\n",
       "\n",
       "    .dataframe tbody tr th {\n",
       "        vertical-align: top;\n",
       "    }\n",
       "\n",
       "    .dataframe thead th {\n",
       "        text-align: right;\n",
       "    }\n",
       "</style>\n",
       "<table border=\"1\" class=\"dataframe\">\n",
       "  <thead>\n",
       "    <tr style=\"text-align: right;\">\n",
       "      <th></th>\n",
       "      <th>idx</th>\n",
       "      <th>book</th>\n",
       "      <th>labels</th>\n",
       "      <th>concat</th>\n",
       "      <th>translator</th>\n",
       "      <th>sim</th>\n",
       "      <th>src</th>\n",
       "      <th>tgt</th>\n",
       "    </tr>\n",
       "  </thead>\n",
       "  <tbody>\n",
       "    <tr>\n",
       "      <th>0</th>\n",
       "      <td>91</td>\n",
       "      <td>Demons</td>\n",
       "      <td>4</td>\n",
       "      <td>Из лицея молодой человек в первые два года при...</td>\n",
       "      <td>PV</td>\n",
       "      <td>0.976574</td>\n",
       "      <td>Из лицея молодой человек в первые два года при...</td>\n",
       "      <td>For the first two years the young man came hom...</td>\n",
       "    </tr>\n",
       "    <tr>\n",
       "      <th>1</th>\n",
       "      <td>1263</td>\n",
       "      <td>Demons</td>\n",
       "      <td>4</td>\n",
       "      <td>– Вещь короткая; даже, если хотите, по-настоящ...</td>\n",
       "      <td>PV</td>\n",
       "      <td>0.976535</td>\n",
       "      <td>– Вещь короткая; даже, если хотите, по-настоящ...</td>\n",
       "      <td>\"It's a short matter; in fact, if you like, it...</td>\n",
       "    </tr>\n",
       "    <tr>\n",
       "      <th>2</th>\n",
       "      <td>1228</td>\n",
       "      <td>Demons</td>\n",
       "      <td>4</td>\n",
       "      <td>– Да кто? Кто велел вам сюда приходить? – допр...</td>\n",
       "      <td>PV</td>\n",
       "      <td>0.976279</td>\n",
       "      <td>– Да кто? Кто велел вам сюда приходить? – допр...</td>\n",
       "      <td>\"But, who? Who told you to come here?\" Varvara...</td>\n",
       "    </tr>\n",
       "    <tr>\n",
       "      <th>3</th>\n",
       "      <td>289</td>\n",
       "      <td>Demons</td>\n",
       "      <td>4</td>\n",
       "      <td>Так называемое у нас имение Степана Трофимович...</td>\n",
       "      <td>PV</td>\n",
       "      <td>0.976099</td>\n",
       "      <td>Так называемое у нас имение Степана Трофимович...</td>\n",
       "      <td>Stepan Trofimovich's estate, as we used to cal...</td>\n",
       "    </tr>\n",
       "    <tr>\n",
       "      <th>4</th>\n",
       "      <td>528</td>\n",
       "      <td>Demons</td>\n",
       "      <td>4</td>\n",
       "      <td>– Шатов? Это брат Дарьи Павловны… &lt;SEP&gt; \"Shato...</td>\n",
       "      <td>PV</td>\n",
       "      <td>0.975940</td>\n",
       "      <td>– Шатов? Это брат Дарьи Павловны…</td>\n",
       "      <td>\"Shatov? He is Darya Pavlovna's brother...\"</td>\n",
       "    </tr>\n",
       "  </tbody>\n",
       "</table>\n",
       "</div>"
      ],
      "text/plain": [
       "    idx    book  labels                                             concat  \\\n",
       "0    91  Demons       4  Из лицея молодой человек в первые два года при...   \n",
       "1  1263  Demons       4  – Вещь короткая; даже, если хотите, по-настоящ...   \n",
       "2  1228  Demons       4  – Да кто? Кто велел вам сюда приходить? – допр...   \n",
       "3   289  Demons       4  Так называемое у нас имение Степана Трофимович...   \n",
       "4   528  Demons       4  – Шатов? Это брат Дарьи Павловны… <SEP> \"Shato...   \n",
       "\n",
       "  translator       sim                                                src  \\\n",
       "0         PV  0.976574  Из лицея молодой человек в первые два года при...   \n",
       "1         PV  0.976535  – Вещь короткая; даже, если хотите, по-настоящ...   \n",
       "2         PV  0.976279  – Да кто? Кто велел вам сюда приходить? – допр...   \n",
       "3         PV  0.976099  Так называемое у нас имение Степана Трофимович...   \n",
       "4         PV  0.975940                  – Шатов? Это брат Дарьи Павловны…   \n",
       "\n",
       "                                                 tgt  \n",
       "0  For the first two years the young man came hom...  \n",
       "1  \"It's a short matter; in fact, if you like, it...  \n",
       "2  \"But, who? Who told you to come here?\" Varvara...  \n",
       "3  Stepan Trofimovich's estate, as we used to cal...  \n",
       "4        \"Shatov? He is Darya Pavlovna's brother...\"  "
      ]
     },
     "execution_count": 46,
     "metadata": {},
     "output_type": "execute_result"
    }
   ],
   "source": [
    "df = pd.concat([train_df, test_df, val_df], axis=0)\n",
    "df.head()"
   ]
  },
  {
   "cell_type": "code",
   "execution_count": null,
   "metadata": {},
   "outputs": [],
   "source": [
    "# Mean paragraph length per Translator\n",
    "for b in train_df.book:\n",
    "    book = df.loc[df['book'] == b]\n",
    "    print(b, book['src'].apply(len).mean())"
   ]
  },
  {
   "cell_type": "markdown",
   "metadata": {},
   "source": [
    "### Overall Distribution of Paragraph Length"
   ]
  },
  {
   "cell_type": "code",
   "execution_count": null,
   "metadata": {},
   "outputs": [],
   "source": [
    "import matplotlib.pyplot as plt \n",
    "  \n",
    "train_len = [len(t['text']) for t in sentences['train']]\n",
    "max_len = max(train_len)\n",
    "plt.hist(train_len, bins=70, range=[0,5000], color='powderblue', edgecolor = \"black\") \n",
    "# plt.title('Distribution of Dataset Paragraph Length')\n",
    "# plt.xlabel('Number of Tokens')\n",
    "# plt.ylabel('Count')\n",
    "plt.show() "
   ]
  },
  {
   "cell_type": "markdown",
   "metadata": {},
   "source": [
    "### Load In Multilingual BERT"
   ]
  },
  {
   "cell_type": "code",
   "execution_count": 5,
   "metadata": {},
   "outputs": [],
   "source": [
    "BERT_MODEL = \"bert-base-multilingual-cased\"\n",
    "\n",
    "from transformers import AutoTokenizer\n",
    "\n",
    "tokenizer = AutoTokenizer.from_pretrained('bert-base-multilingual-cased')"
   ]
  },
  {
   "cell_type": "code",
   "execution_count": 6,
   "metadata": {},
   "outputs": [],
   "source": [
    "import datasets\n",
    "import pandas as pd\n",
    "\n",
    "train_dataset = datasets.Dataset.from_pandas(pd.DataFrame(data=sentences['train']))\n",
    "val_dataset = datasets.Dataset.from_pandas(pd.DataFrame(data=sentences['val']))\n",
    "test_dataset = datasets.Dataset.from_pandas(pd.DataFrame(data=sentences['test']))"
   ]
  },
  {
   "cell_type": "markdown",
   "metadata": {},
   "source": [
    "## Tokenization of Paragraphs for mBERT"
   ]
  },
  {
   "cell_type": "markdown",
   "metadata": {},
   "source": [
    "In our experiments we test three modes of tokenized data. We give our model: \n",
    "- 512 tokens of only the translated paragraph\n",
    "- 256 tokens of the translated paragraphs appended to 256 of the source paragraph; this is done to test if including the original source data improves performance\n",
    "- 256 tokens of only the translated paragraphs; this we need to compare performance between the other two input formats"
   ]
  },
  {
   "cell_type": "markdown",
   "metadata": {},
   "source": [
    "### TGT 512"
   ]
  },
  {
   "cell_type": "markdown",
   "metadata": {},
   "source": [
    "Include the first 512 tokens of translated paragraphs for training/testing."
   ]
  },
  {
   "cell_type": "code",
   "execution_count": 7,
   "metadata": {},
   "outputs": [
    {
     "data": {
      "application/vnd.jupyter.widget-view+json": {
       "model_id": "8ff9d9a0225747528c5d333aa8f1422c",
       "version_major": 2,
       "version_minor": 0
      },
      "text/plain": [
       "Map:   0%|          | 0/17735 [00:00<?, ? examples/s]"
      ]
     },
     "metadata": {},
     "output_type": "display_data"
    },
    {
     "data": {
      "application/vnd.jupyter.widget-view+json": {
       "model_id": "4f4f0388455c4be1abac15bc9ab8f4e1",
       "version_major": 2,
       "version_minor": 0
      },
      "text/plain": [
       "Map:   0%|          | 0/1175 [00:00<?, ? examples/s]"
      ]
     },
     "metadata": {},
     "output_type": "display_data"
    },
    {
     "data": {
      "application/vnd.jupyter.widget-view+json": {
       "model_id": "6466b29fd8e54f7985775d1123fed157",
       "version_major": 2,
       "version_minor": 0
      },
      "text/plain": [
       "Map:   0%|          | 0/1175 [00:00<?, ? examples/s]"
      ]
     },
     "metadata": {},
     "output_type": "display_data"
    }
   ],
   "source": [
    "def preprocess_function_512(datum):\n",
    "    src, tgt = datum['text'].split(' <SEP> ')\n",
    "    return tokenizer(tgt, padding='max_length', max_length=512, truncation='longest_first')\n",
    "\n",
    "tokenized_train_512 = train_dataset.map(preprocess_function_512)\n",
    "tokenized_val_512 = val_dataset.map(preprocess_function_512)\n",
    "tokenized_test_512 = test_dataset.map(preprocess_function_512)"
   ]
  },
  {
   "cell_type": "code",
   "execution_count": null,
   "metadata": {},
   "outputs": [],
   "source": [
    "tokenized_train_512['input_ids'][1]"
   ]
  },
  {
   "cell_type": "code",
   "execution_count": 8,
   "metadata": {},
   "outputs": [
    {
     "name": "stderr",
     "output_type": "stream",
     "text": [
      "2024-03-05 16:25:13.513655: I tensorflow/core/platform/cpu_feature_guard.cc:182] This TensorFlow binary is optimized to use available CPU instructions in performance-critical operations.\n",
      "To enable the following instructions: SSE4.1 SSE4.2 AVX AVX2 FMA, in other operations, rebuild TensorFlow with the appropriate compiler flags.\n"
     ]
    },
    {
     "data": {
      "text/plain": [
       "'[CLS] \" It\\'s a short matter ; in fact, if you like, it\\'s not even an anecdote, \" the beads began spilling out. \" However, a novelist might cook up a novel from it in an idle moment. It\\'s quite an interesting little matter, Praskovya Ivanovna, and I\\'m sure Lizaveta Nikolaevna will listen with curiosity, because there are many things here which, if not queer, are at least quaint. About five years ago, in Petersburg, Nikolai Vsevolodovich got to know this gentleman - this same Mr. Lebyadkin who is standing here with his mouth hanging open and, it seems, was just about to slip away. Forgive me, Varvara Petrovna. Incidentally, I\\'d advise you not to take to your heels, mister retired official of the former supply department ( you see, I remember you perfectly ). Both I and Nikolai Vsevolodovich are all too well informed of your local tricks, of which, don\\'t forget, you will have to give an accounting. Once again I ask your forgiveness, Varvara Petrovna. Nikolai Vsevolodovich used to call this gentleman his Falstaff - that must be some former character, \" he suddenly explained, \" some burlesque everyone laughs at and who allows everyone to laugh at him, so long as they pay money. The life Nikolai Vsevolodovich then led in Petersburg was, so to speak, a jeering one - I cannot define it by any other word, because he was not a man to fall into disillusionment, and he scorned then to do anything serious. I\\'m talking only about that time, Varvara Petrovna. This Lebyadkin had a sister - the very one who was just sitting here. This nice brother and sister had no corner of their own, and wandered about staying with various people. He loitered under the arcades of the Gostiny Dvor, unfailingly wearing his former uniform, and stopped the cleanerlooking passersby, and whatever he collected he would spend on drink. His sister lived like the birds of the air. She helped out in those corners and served in exchange for necessities. It was a most terrible Sodom ; I\\'ll pass over the [SEP]'"
      ]
     },
     "execution_count": 8,
     "metadata": {},
     "output_type": "execute_result"
    }
   ],
   "source": [
    "tokenizer.decode(tokenized_train_512['input_ids'][1])"
   ]
  },
  {
   "cell_type": "code",
   "execution_count": 9,
   "metadata": {},
   "outputs": [
    {
     "data": {
      "text/plain": [
       "1999"
      ]
     },
     "execution_count": 9,
     "metadata": {},
     "output_type": "execute_result"
    }
   ],
   "source": [
    "len(tokenizer.decode(tokenized_train_512['input_ids'][1]))"
   ]
  },
  {
   "cell_type": "code",
   "execution_count": null,
   "metadata": {},
   "outputs": [],
   "source": [
    "decoded_512 = [tokenizer.decode(datum['input_ids']) for datum in tokenized_train_512]\n",
    "decoded_512_len = [len(t) for t in decoded_512]"
   ]
  },
  {
   "cell_type": "code",
   "execution_count": 57,
   "metadata": {},
   "outputs": [
    {
     "data": {
      "image/png": "[encoded data removed]",
      "text/plain": [
       "<Figure size 640x480 with 1 Axes>"
      ]
     },
     "metadata": {},
     "output_type": "display_data"
    }
   ],
   "source": [
    "plt.hist(decoded_512_len, bins=100 , range=[0,max(decoded_512_len)]) \n",
    "plt.title('Decoded 512 Len - Padded')\n",
    "plt.show() "
   ]
  },
  {
   "cell_type": "code",
   "execution_count": 61,
   "metadata": {},
   "outputs": [],
   "source": [
    "decoded_512_unpadded = [tokenizer.decode(datum['input_ids']).split('[SEP]')[0] for datum in tokenized_train_512]\n",
    "decoded_512_unpadded_len = [len(t) for t in decoded_512_unpadded]"
   ]
  },
  {
   "cell_type": "code",
   "execution_count": 63,
   "metadata": {},
   "outputs": [
    {
     "data": {
      "image/png": "[encoded data removed]",
      "text/plain": [
       "<Figure size 640x480 with 1 Axes>"
      ]
     },
     "metadata": {},
     "output_type": "display_data"
    }
   ],
   "source": [
    "plt.hist(decoded_512_unpadded_len, bins=100 , range=[0,max(decoded_512_len)]) \n",
    "plt.title('Decoded 512 Len - Unpadded')\n",
    "plt.show() "
   ]
  },
  {
   "cell_type": "markdown",
   "metadata": {},
   "source": [
    "## TGT 256"
   ]
  },
  {
   "cell_type": "markdown",
   "metadata": {},
   "source": [
    "Include the first 256 tokens of translated paragraphs for training/testing."
   ]
  },
  {
   "cell_type": "code",
   "execution_count": 50,
   "metadata": {},
   "outputs": [
    {
     "data": {
      "application/vnd.jupyter.widget-view+json": {
       "model_id": "aa88dcd110974ecebb95804666bc80b8",
       "version_major": 2,
       "version_minor": 0
      },
      "text/plain": [
       "Map:   0%|          | 0/17735 [00:00<?, ? examples/s]"
      ]
     },
     "metadata": {},
     "output_type": "display_data"
    },
    {
     "data": {
      "application/vnd.jupyter.widget-view+json": {
       "model_id": "04eb7921af454553b8de880264b11f12",
       "version_major": 2,
       "version_minor": 0
      },
      "text/plain": [
       "Map:   0%|          | 0/1175 [00:00<?, ? examples/s]"
      ]
     },
     "metadata": {},
     "output_type": "display_data"
    },
    {
     "data": {
      "application/vnd.jupyter.widget-view+json": {
       "model_id": "e88e59bc71c8444484ac9f988a6f7dfd",
       "version_major": 2,
       "version_minor": 0
      },
      "text/plain": [
       "Map:   0%|          | 0/1175 [00:00<?, ? examples/s]"
      ]
     },
     "metadata": {},
     "output_type": "display_data"
    }
   ],
   "source": [
    "def preprocess_function_256(datum):\n",
    "    src, tgt = datum['text'].split(' <SEP> ')\n",
    "    return tokenizer(tgt, padding='max_length', max_length=256, truncation='longest_first')\n",
    "\n",
    "tokenized_train_256 = train_dataset.map(preprocess_function_256)\n",
    "tokenized_val_256 = val_dataset.map(preprocess_function_256)\n",
    "tokenized_test_256 = test_dataset.map(preprocess_function_256)"
   ]
  },
  {
   "cell_type": "code",
   "execution_count": 64,
   "metadata": {},
   "outputs": [],
   "source": [
    "decoded_256 = [tokenizer.decode(datum['input_ids']) for datum in tokenized_train_256]\n",
    "decoded_256_len = [len(t) for t in decoded_256]"
   ]
  },
  {
   "cell_type": "code",
   "execution_count": 65,
   "metadata": {},
   "outputs": [
    {
     "data": {
      "image/png": "[encoded data removed]",
      "text/plain": [
       "<Figure size 640x480 with 1 Axes>"
      ]
     },
     "metadata": {},
     "output_type": "display_data"
    }
   ],
   "source": [
    "plt.hist(decoded_256_len, bins=100 , range=[0,max(decoded_512_len)]) \n",
    "plt.title('Decoded 256 Len - Padded')\n",
    "plt.show() "
   ]
  },
  {
   "cell_type": "code",
   "execution_count": 77,
   "metadata": {},
   "outputs": [],
   "source": [
    "decoded_256_unpadded = [tokenizer.decode(datum['input_ids']).split('[SEP]')[0] for datum in tokenized_train_256]\n",
    "decoded_256_unpadded_len = [len(t) for t in decoded_256_unpadded]"
   ]
  },
  {
   "cell_type": "code",
   "execution_count": 78,
   "metadata": {},
   "outputs": [
    {
     "data": {
      "image/png": "[encoded data removed]",
      "text/plain": [
       "<Figure size 640x480 with 1 Axes>"
      ]
     },
     "metadata": {},
     "output_type": "display_data"
    }
   ],
   "source": [
    "plt.hist(decoded_256_unpadded_len, bins=100 , range=[0,max(decoded_512_len)]) \n",
    "plt.title('Decoded 256 Len - Unpadded')\n",
    "plt.show() "
   ]
  },
  {
   "cell_type": "markdown",
   "metadata": {},
   "source": [
    "### SRC + TGT"
   ]
  },
  {
   "cell_type": "markdown",
   "metadata": {},
   "source": [
    "Include the first 256 tokens of translated paragraph and 256 tokens of the source paragraph for training/testing."
   ]
  },
  {
   "cell_type": "code",
   "execution_count": 80,
   "metadata": {},
   "outputs": [
    {
     "data": {
      "application/vnd.jupyter.widget-view+json": {
       "model_id": "7e925afd279a483ab31d6c64ca0b74e2",
       "version_major": 2,
       "version_minor": 0
      },
      "text/plain": [
       "Map:   0%|          | 0/17735 [00:00<?, ? examples/s]"
      ]
     },
     "metadata": {},
     "output_type": "display_data"
    },
    {
     "data": {
      "application/vnd.jupyter.widget-view+json": {
       "model_id": "18fbd39f36024dbf97acdd6a13c38cad",
       "version_major": 2,
       "version_minor": 0
      },
      "text/plain": [
       "Map:   0%|          | 0/1175 [00:00<?, ? examples/s]"
      ]
     },
     "metadata": {},
     "output_type": "display_data"
    },
    {
     "data": {
      "application/vnd.jupyter.widget-view+json": {
       "model_id": "6f9c0e9caf8e4e8aa0f635972ee7d8e4",
       "version_major": 2,
       "version_minor": 0
      },
      "text/plain": [
       "Map:   0%|          | 0/1175 [00:00<?, ? examples/s]"
      ]
     },
     "metadata": {},
     "output_type": "display_data"
    }
   ],
   "source": [
    "def preprocess_function_concat(datum):\n",
    "    src, tgt = datum['text'].split(' <SEP> ')\n",
    "    return tokenizer(src, tgt, padding='max_length', max_length=512, truncation='longest_first')\n",
    "\n",
    "tokenized_train_concat = train_dataset.map(preprocess_function_concat)\n",
    "tokenized_val_concat = val_dataset.map(preprocess_function_concat)\n",
    "tokenized_test_concat = test_dataset.map(preprocess_function_concat)"
   ]
  },
  {
   "cell_type": "code",
   "execution_count": 81,
   "metadata": {},
   "outputs": [],
   "source": [
    "decoded_concat = [tokenizer.decode(datum['input_ids']) for datum in tokenized_train_concat]\n",
    "decoded_concat_len = [len(t) for t in decoded_concat]"
   ]
  },
  {
   "cell_type": "code",
   "execution_count": 82,
   "metadata": {},
   "outputs": [
    {
     "data": {
      "image/png": "[encoded data removed]",
      "text/plain": [
       "<Figure size 640x480 with 1 Axes>"
      ]
     },
     "metadata": {},
     "output_type": "display_data"
    }
   ],
   "source": [
    "plt.hist(decoded_concat_len, bins=100 , range=[0, max(decoded_concat_len)]) \n",
    "plt.title('Decoded SRC+TGT Len - Padded')\n",
    "plt.show() "
   ]
  },
  {
   "cell_type": "code",
   "execution_count": 85,
   "metadata": {},
   "outputs": [
    {
     "data": {
      "text/plain": [
       "\"[CLS] Из лицея молодой человек в первые два года приезжал на вакацию. Во время поездки в Петербург Варвары Петровны и Степана Трофимовича он присутствовал иногда на литературных вечерах, бывавших у мамаши, слушал и наблюдал. Говорил мало и всё по - прежнему был тих и застенчив. К Степану Трофимовичу относился с прежним нежным вниманием, но уже как - то сдержаннее : о высоких предметах и о воспоминаниях прошлого видимо удалялся с ним заговаривать. Кончив курс, он, по желанию мамаши, поступил в военную службу и вскоре был зачислен в один из самых видных гвардейских кавалерийских полков. Показаться мамаше в мундире он не приехал и редко стал писать из Петербурга. Денег Варвара Петровна посылала ему не жалея, несмотря на то что после реформы доход с ее имений упал до того, что в первое время она и половины прежнего дохода не полу [[SEP]] For the first two years the young man came home from the lycée for vacations. While Varvara Petrovna and Stepan Trofimovich were in Petersburg, he was sometimes present at his mother's literary evenings, listening and observing. He spoke little, and was quiet and shy as before. He treated Stepan Trofimovich with the former tender attentiveness, but now somehow more reservedly : he obviously refrained from talking with him about lofty subjects or memories of the past. In accordance with his mama's wish, after completing his studies he entered military service and was soon enrolled in one of the most distinguished regiments of the Horse Guard. He did not come to show himself to his mama in his uniform and now rarely wrote from Petersburg. Varvara Petrovna sent him money without stint, in spite of the fact that the income from her estates fell so much after the reform that at first she did not get even half of her former income. However, through long economy she had saved up a certain not exactly small sum. She was very interested in her son's successes in Petersburg high society. The young officer, rich and with expectations, succeeded where she had not. He [\""
      ]
     },
     "execution_count": 85,
     "metadata": {},
     "output_type": "execute_result"
    }
   ],
   "source": [
    "\"[SEP]\".join(tokenizer.decode(tokenized_train_concat[0]['input_ids']).split(\"[SEP]\", 2)[:2])"
   ]
  },
  {
   "cell_type": "code",
   "execution_count": 86,
   "metadata": {},
   "outputs": [],
   "source": [
    "decoded_concat_unpadded = [\"[SEP]\".join(tokenizer.decode(datum['input_ids']).split(\"[SEP]\", 2)[:2]) for datum in tokenized_train_concat]\n",
    "decoded_concat_unpadded_len = [len(t) for t in decoded_concat_unpadded]"
   ]
  },
  {
   "cell_type": "code",
   "execution_count": 87,
   "metadata": {},
   "outputs": [
    {
     "data": {
      "image/png": "[encoded data removed]",
      "text/plain": [
       "<Figure size 640x480 with 1 Axes>"
      ]
     },
     "metadata": {},
     "output_type": "display_data"
    }
   ],
   "source": [
    "plt.hist(decoded_concat_unpadded_len, bins=100 , range=[0,max(decoded_concat_len)]) \n",
    "plt.title('Decoded SRC+TGT Len - Unpadded')\n",
    "plt.show() "
   ]
  },
  {
   "cell_type": "markdown",
   "metadata": {},
   "source": [
    "## Dataset Stats"
   ]
  },
  {
   "cell_type": "code",
   "execution_count": 1,
   "metadata": {},
   "outputs": [],
   "source": [
    "import pickle\n",
    "\n",
    "with open('aligned_paragraph_dataset.pickle', 'rb') as fp:\n",
    "  aligned_paragraph_dataset = pickle.load(fp)\n",
    "\n",
    "with open('source_paragraph_dataset.pickle', 'rb') as fp:\n",
    "  source_paragraph_dataset = pickle.load(fp)"
   ]
  },
  {
   "cell_type": "markdown",
   "metadata": {},
   "source": [
    "#### Number of Paragraphs per Book in Dataset"
   ]
  },
  {
   "cell_type": "code",
   "execution_count": 8,
   "metadata": {},
   "outputs": [
    {
     "name": "stdout",
     "output_type": "stream",
     "text": [
      "DeadSouls  num paras:  2174\n",
      "FathersAndSons  num paras:  2068\n",
      "PoorFolk  num paras:  373\n",
      "Demons  num paras:  5240\n",
      "AnnaKarenina  num paras:  7826\n",
      "NotesFromUnderground  num paras:  544\n",
      "TheBrothersKaramazov  num paras:  5403\n",
      "TheIdiot  num paras:  4524\n",
      "CrimeAndPunishment  num paras:  3828\n",
      "Total:  3553.3333333333335\n"
     ]
    }
   ],
   "source": [
    "# Num Paras\n",
    "total_average = 0\n",
    "for book in source_paragraph_dataset.keys():\n",
    "    count = 0\n",
    "    for p in source_paragraph_dataset[book]:\n",
    "        if len(p) != 0:\n",
    "            count += 1\n",
    "    print(book, ' num paras: ', count)\n",
    "    total_average += count\n",
    "    \n",
    "print('Total: ', total_average / len(source_paragraph_dataset.keys()))"
   ]
  },
  {
   "cell_type": "markdown",
   "metadata": {},
   "source": [
    "#### Average Source Paragraph Length"
   ]
  },
  {
   "cell_type": "code",
   "execution_count": 10,
   "metadata": {},
   "outputs": [
    {
     "name": "stdout",
     "output_type": "stream",
     "text": [
      "DeadSouls  num paras:  343.6283348666053\n",
      "FathersAndSons  num paras:  170.29835589941973\n",
      "PoorFolk  num paras:  673.8445040214477\n",
      "Demons  num paras:  239.1043893129771\n",
      "AnnaKarenina  num paras:  216.50983899821108\n",
      "NotesFromUnderground  num paras:  390.7297794117647\n",
      "TheBrothersKaramazov  num paras:  333.6524153248196\n",
      "TheIdiot  num paras:  287.67020335985853\n",
      "CrimeAndPunishment  num paras:  278.77063740856846\n",
      "Total:  326.0231620670747\n"
     ]
    }
   ],
   "source": [
    "# Ave Source Len\n",
    "total_len = 0\n",
    "for book in source_paragraph_dataset.keys():\n",
    "    count = 0\n",
    "    sum = 0\n",
    "    for p in source_paragraph_dataset[book]:\n",
    "        if len(p) != 0:\n",
    "            count += 1\n",
    "            sum += len(p)\n",
    "    print(book, ' num paras: ', sum/count)\n",
    "    total_len += sum/count\n",
    "    \n",
    "print('Total: ', total_len / len(source_paragraph_dataset.keys()))"
   ]
  },
  {
   "cell_type": "markdown",
   "metadata": {},
   "source": [
    "#### Average Target Paragraph Length"
   ]
  },
  {
   "cell_type": "code",
   "execution_count": 14,
   "metadata": {},
   "outputs": [
    {
     "name": "stdout",
     "output_type": "stream",
     "text": [
      "DeadSouls  tgt par len:  385.5420689655172\n",
      "FathersAndSons  tgt par len:  207.57926534557757\n",
      "PoorFolk  tgt par len:  785.3003565062394\n",
      "Demons  tgt par len:  272.3897157031101\n",
      "AnnaKarenina  tgt par len:  244.13894212341893\n",
      "NotesFromUnderground  tgt par len:  463.89831804281346\n",
      "TheBrothersKaramazov  tgt par len:  385.58871514927216\n",
      "TheIdiot  tgt par len:  324.28081031307545\n",
      "CrimeAndPunishment  tgt par len:  321.00515800470095\n",
      "Total:  376.6359277948584\n"
     ]
    }
   ],
   "source": [
    "# Ave Target Len\n",
    "total_len = 0\n",
    "aligned_paragraph_dataset['Demons'][0]\n",
    "for book in aligned_paragraph_dataset.keys():\n",
    "    total_para_len = 0\n",
    "    for para in aligned_paragraph_dataset[book]:\n",
    "        para_sum = 0\n",
    "        count = 0\n",
    "\n",
    "        for t in para.keys():\n",
    "            if len(para[t]) > 0:\n",
    "                count += 1\n",
    "                para_sum += len(para[t])\n",
    "        if count > 0:\n",
    "            total_para_len += para_sum/count\n",
    "    print(book, ' tgt par len: ', total_para_len / len(aligned_paragraph_dataset[book]))\n",
    "    total_len += total_para_len / len(aligned_paragraph_dataset[book])\n",
    "    \n",
    "print('Total: ', total_len / len(aligned_paragraph_dataset.keys()))\n",
    "            "
   ]
  }
 ],
 "metadata": {
  "kernelspec": {
   "display_name": "litmt",
   "language": "python",
   "name": "python3"
  },
  "language_info": {
   "codemirror_mode": {
    "name": "ipython",
    "version": 3
   },
   "file_extension": ".py",
   "mimetype": "text/x-python",
   "name": "python",
   "nbconvert_exporter": "python",
   "pygments_lexer": "ipython3",
   "version": "3.11.7"
  }
 },
 "nbformat": 4,
 "nbformat_minor": 2
}
