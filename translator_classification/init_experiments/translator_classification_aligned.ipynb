{
 "cells": [
  {
   "cell_type": "markdown",
   "metadata": {},
   "source": [
    "## Init"
   ]
  },
  {
   "cell_type": "code",
   "execution_count": 1,
   "metadata": {},
   "outputs": [],
   "source": [
    "import os\n",
    "os.environ[\"CUDA_VISIBLE_DEVICES\"] = \"2,3\""
   ]
  },
  {
   "cell_type": "code",
   "execution_count": 2,
   "metadata": {},
   "outputs": [
    {
     "name": "stdout",
     "output_type": "stream",
     "text": [
      "cuda\n"
     ]
    }
   ],
   "source": [
    "import torch\n",
    "\n",
    "if torch.cuda.is_available():\n",
    "  dev = \"cuda\"\n",
    "else:\n",
    "  dev = \"cpu\"\n",
    "device = torch.device(dev)\n",
    "\n",
    "print(device)"
   ]
  },
  {
   "cell_type": "markdown",
   "metadata": {},
   "source": [
    "## SIM score"
   ]
  },
  {
   "cell_type": "code",
   "execution_count": 3,
   "metadata": {},
   "outputs": [],
   "source": [
    "# %load par3/par3_align/similarity/sim_models.py\n",
    "import torch\n",
    "import torch.nn as nn\n",
    "from torch.nn.modules.distance import CosineSimilarity\n",
    "import numpy as np\n",
    "\n",
    "class ParaModel(nn.Module):\n",
    "\n",
    "    def __init__(self, args, vocab):\n",
    "        super(ParaModel, self).__init__()\n",
    "\n",
    "        self.args = args\n",
    "        self.vocab = vocab\n",
    "        self.gpu = args.gpu\n",
    "\n",
    "        self.cosine = CosineSimilarity()\n",
    "\n",
    "    def compute_mask(self, lengths):\n",
    "\n",
    "        lengths = lengths.cpu()\n",
    "        max_len = torch.max(lengths)\n",
    "        range_row = torch.arange(0, max_len).long()[None, :].expand(lengths.size()[0], max_len)\n",
    "        mask = lengths[:, None].expand_as(range_row)\n",
    "        mask = range_row < mask\n",
    "        mask = mask.float()\n",
    "        if self.gpu >= 0:\n",
    "            mask = mask.cuda()\n",
    "        return mask\n",
    "\n",
    "    def torchify_batch(self, batch):\n",
    "\n",
    "        max_len = 0\n",
    "        for i in batch:\n",
    "            if len(i.embeddings) > max_len:\n",
    "                max_len = len(i.embeddings)\n",
    "\n",
    "        batch_len = len(batch)\n",
    "\n",
    "        np_sents = np.zeros((batch_len, max_len), dtype='int32')\n",
    "        np_lens = np.zeros((batch_len,), dtype='int32')\n",
    "\n",
    "        for i, ex in enumerate(batch):\n",
    "            np_sents[i, :len(ex.embeddings)] = ex.embeddings\n",
    "            np_lens[i] = len(ex.embeddings)\n",
    "\n",
    "        idxs, lengths, masks = torch.from_numpy(np_sents).long(), \\\n",
    "                               torch.from_numpy(np_lens).float().long(), \\\n",
    "                               self.compute_mask(torch.from_numpy(np_lens).long())\n",
    "\n",
    "        if self.gpu >= 0:\n",
    "            idxs = idxs.cuda()\n",
    "            lengths = lengths.cuda()\n",
    "            masks = masks.cuda()\n",
    "    \n",
    "        return idxs, lengths, masks\n",
    "\n",
    "    def scoring_function(self, g_idxs1, g_mask1, g_lengths1, g_idxs2, g_mask2, g_lengths2):\n",
    "\n",
    "        g1 = self.encode(g_idxs1, g_mask1, g_lengths1)\n",
    "        g2 = self.encode(g_idxs2, g_mask2, g_lengths2)\n",
    "        return self.cosine(g1, g2)\n",
    "\n",
    "class WordAveraging(ParaModel):\n",
    "\n",
    "    def __init__(self, args, vocab):\n",
    "        super(WordAveraging, self).__init__(args, vocab)\n",
    "\n",
    "        self.vocab = vocab\n",
    "        self.embedding = nn.Embedding(len(self.vocab), self.args.dim)\n",
    "\n",
    "        if args.gpu >= 0:\n",
    "           self.cuda()\n",
    "\n",
    "    def encode(self, idxs, mask, lengths):\n",
    "        word_embs = self.embedding(idxs)\n",
    "        word_embs = word_embs * mask[:, :, None]\n",
    "        g = word_embs.sum(dim=1) / lengths[:, None].float()\n",
    "        return g"
   ]
  },
  {
   "cell_type": "code",
   "execution_count": 4,
   "metadata": {},
   "outputs": [],
   "source": [
    "# %load par3/par3_align/similarity/sim_utils.py\n",
    "import io\n",
    "import numpy as np\n",
    "import torch\n",
    "\n",
    "def get_wordmap(textfile):\n",
    "    words={}\n",
    "    We = []\n",
    "    f = io.open(textfile, 'r', encoding='utf-8')\n",
    "    lines = f.readlines()\n",
    "    if len(lines[0].split()) == 2:\n",
    "        lines.pop(0)\n",
    "    ct = 0\n",
    "    for (n,i) in enumerate(lines):\n",
    "        word = i.split(' ', 1)[0]\n",
    "        vec = i.split(' ', 1)[1].split(' ')\n",
    "        j = 0\n",
    "        v = []\n",
    "        while j < len(vec):\n",
    "            v.append(float(vec[j]))\n",
    "            j += 1\n",
    "        words[word] = ct\n",
    "        ct += 1\n",
    "        We.append(v)\n",
    "    return words, np.array(We)\n",
    "\n",
    "def get_minibatches_idx(n, minibatch_size, shuffle=False):\n",
    "    idx_list = np.arange(n, dtype=\"int32\")\n",
    "\n",
    "    if shuffle:\n",
    "        np.random.shuffle(idx_list)\n",
    "\n",
    "    minibatches = []\n",
    "    minibatch_start = 0\n",
    "    for i in range(n // minibatch_size):\n",
    "        minibatches.append(idx_list[minibatch_start:\n",
    "                                    minibatch_start + minibatch_size])\n",
    "        minibatch_start += minibatch_size\n",
    "\n",
    "    if (minibatch_start != n):\n",
    "        # Make a minibatch out of what is left\n",
    "        minibatches.append(idx_list[minibatch_start:])\n",
    "\n",
    "    return zip(range(len(minibatches)), minibatches)\n",
    "\n",
    "def max_pool(x, lengths, gpu):\n",
    "    out = torch.FloatTensor(x.size(0), x.size(2)).zero_()\n",
    "    if gpu >= 0:\n",
    "        out = out.cuda()\n",
    "    for i in range(len(lengths)):\n",
    "        out[i] = torch.max(x[i][0:lengths[i]], 0)[0]\n",
    "    return out\n",
    "\n",
    "def mean_pool(x, lengths, gpu):\n",
    "    out = torch.FloatTensor(x.size(0), x.size(2)).zero_()\n",
    "    if gpu >= 0:\n",
    "        out = out.cuda()\n",
    "    for i in range(len(lengths)):\n",
    "        out[i] = torch.mean(x[i][0:lengths[i]], 0)\n",
    "    return out\n",
    "\n",
    "def lookup(words, w):\n",
    "    w = w.lower()\n",
    "    if w in words:\n",
    "        return words[w]\n",
    "\n",
    "class Example(object):\n",
    "\n",
    "    def __init__(self, sentence):\n",
    "        self.sentence = sentence.strip().lower()\n",
    "        self.embeddings = []\n",
    "        self.representation = None\n",
    "\n",
    "    def populate_embeddings(self, words):\n",
    "        sentence = self.sentence.lower()\n",
    "        arr = sentence.split()\n",
    "        for i in arr:\n",
    "            emb = lookup(words, i)\n",
    "            if emb:\n",
    "                self.embeddings.append(emb)\n",
    "        if len(self.embeddings) == 0:\n",
    "            self.embeddings.append(words['UUUNKKK'])"
   ]
  },
  {
   "cell_type": "code",
   "execution_count": 5,
   "metadata": {},
   "outputs": [],
   "source": [
    "# %load par3/par3_align/similarity/test_sim.py\n",
    "import torch\n",
    "from nltk.tokenize import TreebankWordTokenizer\n",
    "import sentencepiece as spm\n",
    "\n",
    "tok = TreebankWordTokenizer()\n",
    "\n",
    "model = torch.load('par3/par3_align/similarity/sim/sim.pt')\n",
    "state_dict = model['state_dict']\n",
    "vocab_words = model['vocab_words']\n",
    "args = model['args']\n",
    "# turn off gpu\n",
    "model = WordAveraging(args, vocab_words)\n",
    "model.load_state_dict(state_dict, strict=True)\n",
    "sp = spm.SentencePieceProcessor()\n",
    "sp.Load('par3/par3_align/similarity/sim/sim.sp.30k.model')\n",
    "model.eval()\n",
    "\n",
    "def make_example(sentence, model):\n",
    "    sentence = sentence.lower()\n",
    "    sentence = \" \".join(tok.tokenize(sentence))\n",
    "    sentence = sp.EncodeAsPieces(sentence)\n",
    "    wp1 = Example(\" \".join(sentence))\n",
    "    wp1.populate_embeddings(model.vocab)\n",
    "    return wp1\n",
    "\n",
    "def find_similarity(s1, s2):\n",
    "    with torch.no_grad():\n",
    "        s1 = [make_example(x, model) for x in s1]\n",
    "        s2 = [make_example(x, model) for x in s2]\n",
    "        wx1, wl1, wm1 = model.torchify_batch(s1)\n",
    "        wx2, wl2, wm2 = model.torchify_batch(s2)\n",
    "        BATCH_SIZE = 512\n",
    "        all_scores = []\n",
    "        for i in range(0, len(wx1), BATCH_SIZE):\n",
    "            scores = model.scoring_function(wx1[i:i + BATCH_SIZE], wm1[i:i + BATCH_SIZE], wl1[i:i + BATCH_SIZE],\n",
    "                                            wx2[i:i + BATCH_SIZE], wm2[i:i + BATCH_SIZE], wl2[i:i + BATCH_SIZE])\n",
    "            all_scores.extend([x.item() for x in scores])\n",
    "        return all_scores\n",
    "\n",
    "def find_similarity_matrix(s1, s2):\n",
    "    with torch.no_grad():\n",
    "        s1 = [make_example(x, model) for x in s1]\n",
    "        s2 = [make_example(x, model) for x in s2]\n",
    "        wx1, wl1, wm1 = model.torchify_batch(s1)\n",
    "        wx2, wl2, wm2 = model.torchify_batch(s2)\n",
    "\n",
    "        BATCH_SIZE = 2000\n",
    "        vecs1 = []\n",
    "        vecs2 = []\n",
    "        for i in range(0, len(wx1), BATCH_SIZE):\n",
    "            curr_vecs1 = model.encode(idxs=wx1[i:i + BATCH_SIZE],\n",
    "                                      mask=wm1[i:i + BATCH_SIZE],\n",
    "                                      lengths=wl1[i:i + BATCH_SIZE])\n",
    "            vecs1.append(curr_vecs1)\n",
    "        for i in range(0, len(wx2), BATCH_SIZE):\n",
    "            curr_vecs2 = model.encode(idxs=wx2[i:i + BATCH_SIZE],\n",
    "                                      mask=wm2[i:i + BATCH_SIZE],\n",
    "                                      lengths=wl2[i:i + BATCH_SIZE])\n",
    "            vecs2.append(curr_vecs2)\n",
    "        vecs1 = torch.cat(vecs1)\n",
    "        vecs2 = torch.cat(vecs2)\n",
    "        dot_product = torch.matmul(vecs1, vecs2.t())\n",
    "\n",
    "        vecs1_norm = torch.norm(vecs1, dim=1, keepdim=True)\n",
    "        vecs2_norm = torch.norm(vecs2, dim=1, keepdim=True)\n",
    "        norm_product = torch.matmul(vecs1_norm, vecs2_norm.t())\n",
    "    return torch.div(dot_product, norm_product)\n",
    "\n",
    "def encode_text(s1):\n",
    "    with torch.no_grad():\n",
    "        s1 = [make_example(x, model) for x in s1]\n",
    "        wx1, wl1, wm1 = model.torchify_batch(s1)\n",
    "        vecs1 = model.encode(idxs=wx1, mask=wm1, lengths=wl1)\n",
    "        return vecs1\n"
   ]
  },
  {
   "cell_type": "code",
   "execution_count": 6,
   "metadata": {},
   "outputs": [
    {
     "data": {
      "text/plain": [
       "WordAveraging(\n",
       "  (cosine): CosineSimilarity()\n",
       "  (embedding): Embedding(65733, 300)\n",
       ")"
      ]
     },
     "execution_count": 6,
     "metadata": {},
     "output_type": "execute_result"
    }
   ],
   "source": [
    "tok = TreebankWordTokenizer()\n",
    "\n",
    "model = torch.load('par3/par3_align/similarity/sim/sim.pt')\n",
    "state_dict = model['state_dict']\n",
    "vocab_words = model['vocab_words']\n",
    "args = model['args']\n",
    "# turn off gpu\n",
    "model = WordAveraging(args, vocab_words)\n",
    "model.load_state_dict(state_dict, strict=True)\n",
    "sp = spm.SentencePieceProcessor()\n",
    "sp.Load('par3/par3_align/similarity/sim/sim.sp.30k.model')\n",
    "model.eval()"
   ]
  },
  {
   "cell_type": "code",
   "execution_count": 7,
   "metadata": {},
   "outputs": [],
   "source": [
    "def get_score(refs, cands, metric='sim'):\n",
    "    return find_similarity(refs,cands)"
   ]
  },
  {
   "cell_type": "markdown",
   "metadata": {},
   "source": [
    "## Data Prep"
   ]
  },
  {
   "cell_type": "code",
   "execution_count": 8,
   "metadata": {},
   "outputs": [],
   "source": [
    "import pickle\n",
    "\n",
    "with open('aligned_paragraph_dataset.pickle', 'rb') as fp:\n",
    "  aligned_paragraph_dataset = pickle.load(fp)\n",
    "\n",
    "with open('source_paragraph_dataset.pickle', 'rb') as fp:\n",
    "  source_paragraph_dataset = pickle.load(fp)"
   ]
  },
  {
   "cell_type": "code",
   "execution_count": 9,
   "metadata": {},
   "outputs": [
    {
     "data": {
      "text/plain": [
       "[{'Garnett': '\"You are a scoundrel,\" a thought flashed through my mind, \"if you laugh at this now.\"',\n",
       "  'PV': '\"What a scoundrel you are,\" raced through my head, \"to laugh at that now!\"',\n",
       "  'Katz': '\"You\\'re a scoundrel,\" the thought flashed through my mind, \"if you laugh at that now.\\''},\n",
       " {'Garnett': '\"No matter!\" I cried, answering myself. \"Now everything is lost!\"',\n",
       "  'PV': '\"What of it!\" I cried, answering myself. \"All is lost now!\"',\n",
       "  'Katz': '\"So what!\" I cried in reply. \"Everything is lost now, anyway!\"'},\n",
       " {'Garnett': 'There was no trace to be seen of them, but that made no difference—I knew where they had gone.',\n",
       "  'PV': 'Their trail was already cold; but no matter: I knew where they had gone.',\n",
       "  'Katz': \"There was no sign of them, but it didn't matter. I knew where they were going.\"},\n",
       " {'Garnett': 'At the steps was standing a solitary night sledge-driver in a rough peasant coat, powdered over with the still falling, wet, and as it were warm, snow. It was hot and steamy. The little shaggy piebald horse was also covered with snow and coughing, I remember that very well. I made a rush for the roughly made sledge; but as soon as I raised my foot to get into it, the recollection of how Simonov had just given me six roubles seemed to double me up and I tumbled into the sledge like a sack.',\n",
       "  'PV': 'By the porch stood a lonely cabbie, a night coachman, in a homespun coat all dusted with the still-falling wet and as if warm snow. It was steamy and stuffy. His shaggy little piebald nag was also all dusted with snow, and was coughing—I very much remember that. I rushed to the bast-covered sled; but as I raised my foot to get in, the recollection of the way Simonov had just given me the six roubles cut me down, and I dropped into the sled like a sack.',\n",
       "  'Katz': 'At the entrance stood a solitary, late-night cabby in a coarse peasant coat powdered with wet, seemingly warm snow that was still falling. It was steamy and stuffy outside. The little shaggy piebald nag was also dusted with snow and was coughing; I remember that very well. I headed for the rough-hewn sledge; but as  soon as I raised one foot to get in, the recollection of how Simonov had just given me six rubles hit me with such force that I tumbled into the sledge like a sack.'},\n",
       " {'Garnett': '\"No, I must do a great deal to make up for all that,\" I cried. \"But I will make up for it or perish on the spot this very night. Start!\"',\n",
       "  'PV': '\"No! Much must be done to redeem it all!\" I cried out, \"but I will redeem it, or perish on the spot this very night! Drive!\"',\n",
       "  'Katz': '\"No! There\\'s a lot I have to do to make up for that!\" I cried. \"But make up for it I will or else I\\'ll perish on the spot this very night. Let\\'s go!\"'}]"
      ]
     },
     "execution_count": 9,
     "metadata": {},
     "output_type": "execute_result"
    }
   ],
   "source": [
    "aligned_paragraph_dataset['NotesFromUnderground'][260:265]"
   ]
  },
  {
   "cell_type": "code",
   "execution_count": 10,
   "metadata": {},
   "outputs": [
    {
     "data": {
      "text/plain": [
       "['«Подлец ты!— пронеслось в моей голове,— коли над этим теперь смеешься».',\n",
       " '—Пусть!— крикнул я, отвечая себе.— Теперь ведь уж все погибло!',\n",
       " 'Их уж и след простыл; но все равно: я знал, куда они поехали.',\n",
       " 'У крыльца стоял одинокий Ванька, ночник, в сермяге, весь запорошенный все еще валившимся мокрым и как будто теплым снегом. Было парно и душно. Маленькая лохматая, пегая лошаденка его была тоже вся запорошена и кашляла; я это очень помню. Я бросился в лубошные санки; но только было я занес ногу, чтоб сесть, воспоминание о том, как Симонов сейчас давал мне шесть рублей, так и подкосило меня, и я, как мешок, повалился в санки.',\n",
       " '—Нет! Надо много сделать, чтоб все это выкупить!— прокричал я,— но я выкуплю или в эту же ночь погибну на месте. Пошел!']"
      ]
     },
     "execution_count": 10,
     "metadata": {},
     "output_type": "execute_result"
    }
   ],
   "source": [
    "source_paragraph_dataset['NotesFromUnderground'][260:265]"
   ]
  },
  {
   "cell_type": "code",
   "execution_count": 11,
   "metadata": {},
   "outputs": [],
   "source": [
    "import itertools\n",
    "from statistics import mean\n",
    "from operator import itemgetter\n",
    "\n",
    "def get_best_alignments(par_list, top_k_percent, num_k, drop_top, metric, min_len, max_len):\n",
    "\n",
    "    # dict -> score:par_set\n",
    "    # iter thru par_list, prune by length, get metric for set\n",
    "    keep_index_list = []\n",
    "    i2score = {}\n",
    "    for i in range(len(par_list)):\n",
    "        keep_index_list.append(i)\n",
    "        par_set = par_list[i]\n",
    "\n",
    "        max_par_len = len(max(par_set, key = len))\n",
    "        min_par_len = len(min(par_set, key = len))\n",
    "\n",
    "        if (min_par_len >= min_len) and (max_par_len) <= max_len and not all(x==par_set[0] for x in par_set):\n",
    "\n",
    "            pairs = list(itertools.combinations(par_set, 2))\n",
    "            refs, cands = [], []\n",
    "            for s1, s2 in pairs:\n",
    "                refs.append(s1)\n",
    "                cands.append(s2)\n",
    "                \n",
    "            pair_scores = get_score(refs, cands, metric)\n",
    "\n",
    "            average_score = mean(pair_scores)\n",
    "            i2score[i] = average_score\n",
    "\n",
    "    # get top k par sets\n",
    "    num_pars = len(list(i2score))\n",
    "    top_k = int(top_k_percent * num_pars)\n",
    "    if top_k >= num_k:\n",
    "        top_k_scores = sorted(i2score.items(), key=itemgetter(1), reverse=True)[int(num_pars*drop_top):int(num_pars*drop_top) + num_k]\n",
    "    else:\n",
    "        top_k_scores = sorted(i2score.items(), key=itemgetter(1), reverse=True)[int(num_pars*drop_top):int(num_pars*drop_top) + top_k]\n",
    "    \n",
    "    i2score = sorted(i2score.items(), key=itemgetter(1), reverse=True)\n",
    "    return i2score, top_k_scores, keep_index_list"
   ]
  },
  {
   "cell_type": "code",
   "execution_count": 12,
   "metadata": {},
   "outputs": [],
   "source": [
    "min_paragraph_len = 40\n",
    "max_paragraph_len = int(490/2)\n",
    "top_k_percent = 0.8\n",
    "num_k = 50000\n",
    "drop_top = 0.05"
   ]
  },
  {
   "cell_type": "code",
   "execution_count": 13,
   "metadata": {},
   "outputs": [
    {
     "data": {
      "text/plain": [
       "['PoorFolk',\n",
       " 'AnnaKarenina',\n",
       " 'DeadSouls',\n",
       " 'TheIdiot',\n",
       " 'CrimeAndPunishment',\n",
       " 'NotesFromUnderground',\n",
       " 'FathersAndSons',\n",
       " 'TheBrothersKaramazov',\n",
       " 'Demons']"
      ]
     },
     "execution_count": 13,
     "metadata": {},
     "output_type": "execute_result"
    }
   ],
   "source": [
    "list(aligned_paragraph_dataset.keys())"
   ]
  },
  {
   "cell_type": "code",
   "execution_count": 14,
   "metadata": {},
   "outputs": [],
   "source": [
    "# format: label->translator, x->source+translation\n",
    "# dict: key-> translator, value: list of {source:s, translation:t, index:i}\n",
    "translator_to_pars = {}\n",
    "translator_to_pars_holdout = {}\n",
    "\n",
    "# Holdout\n",
    "# NotesFromUnderground - Katz, PV, Garnett\n",
    "# PoorFolk - McDuff, Hogarth, Garnett\n",
    "holdout_books = ['PoorFolk', 'NotesFromUnderground']\n",
    "\n",
    "translator_to_pars = {}\n",
    "translator_to_pars_holdout = {}\n",
    "\n",
    "# for each book in train:\n",
    "for book in sorted(list(aligned_paragraph_dataset.keys())):\n",
    "    # get par list of aligned sentences, best k alignments\n",
    "    book_par_list = [list(aligned_paragraph_dataset[book][p].values()) for p in range(len(aligned_paragraph_dataset[book]))]\n",
    "\n",
    "    if book in holdout_books:\n",
    "        i2score, top_k, keep_idx = get_best_alignments(book_par_list, 1.0, num_k, 0, 'sim', min_paragraph_len, max_paragraph_len)\n",
    "    else:\n",
    "        i2score, top_k, keep_idx = get_best_alignments(book_par_list, top_k_percent, num_k, drop_top, 'sim', min_paragraph_len, max_paragraph_len)\n",
    "\n",
    "\n",
    "    for i, sim in top_k:\n",
    "        par_trans_dict = aligned_paragraph_dataset[book][i]\n",
    "        par_source = source_paragraph_dataset[book][i]\n",
    "\n",
    "        for translator, t in par_trans_dict.items():\n",
    "            datum_dict = {'source':par_source, 'translation': t, 'idx': i, 'book': book}\n",
    "\n",
    "            if translator not in translator_to_pars.keys():\n",
    "                translator_to_pars[translator] = []\n",
    "                translator_to_pars_holdout[translator] = []\n",
    "                \n",
    "            if book in holdout_books:\n",
    "                translator_to_pars_holdout[translator].append(datum_dict)\n",
    "            else:\n",
    "                translator_to_pars[translator].append(datum_dict)"
   ]
  },
  {
   "cell_type": "code",
   "execution_count": 15,
   "metadata": {},
   "outputs": [
    {
     "data": {
      "text/plain": [
       "[{'source': '—Давно ждете?— спросил Трудолюбов.',\n",
       "  'translation': '\"Have you been waiting long?\" asked Trudolyubov.',\n",
       "  'idx': 158,\n",
       "  'book': 'NotesFromUnderground'},\n",
       " {'source': 'Симонов вынул деньги и чуть не бросил их мне.',\n",
       "  'translation': 'Simonov took out the money and almost flung it at me.',\n",
       "  'idx': 254,\n",
       "  'book': 'NotesFromUnderground'},\n",
       " {'source': '—Да, на Сенной; выносили из подвала.',\n",
       "  'translation': '\"Yes, in the Haymarket; they were carrying it out of a basement.\"',\n",
       "  'idx': 332,\n",
       "  'book': 'NotesFromUnderground'},\n",
       " {'source': 'Я уселся опять. Она смотрела на меня с беспокойством.',\n",
       "  'translation': 'I sat down again. She looked at me anxiously.',\n",
       "  'idx': 494,\n",
       "  'book': 'NotesFromUnderground'},\n",
       " {'source': 'Я стоял оплеванный. Ватага шумно выходила из комнаты, Трудолюбов затянул какую-то глупую песню. Симонов остался на крошечную минутку, чтоб дать на чай слугам. Я вдруг подошел к нему.',\n",
       "  'translation': 'I stood there spat upon. The bunch noisily left the room. Trudolyubov struck up some stupid song. Simonov stayed behind for a tiny moment to tip the waiters. I suddenly went over to him.',\n",
       "  'idx': 246,\n",
       "  'book': 'NotesFromUnderground'}]"
      ]
     },
     "execution_count": 15,
     "metadata": {},
     "output_type": "execute_result"
    }
   ],
   "source": [
    "translator_to_pars_holdout['PV'][:5]"
   ]
  },
  {
   "cell_type": "code",
   "execution_count": 16,
   "metadata": {},
   "outputs": [
    {
     "name": "stdout",
     "output_type": "stream",
     "text": [
      "Train\n",
      "PV 11404\n",
      "Garnett 11460\n",
      "Katz 3060\n",
      "McDuff 4902\n",
      "Hogarth 1664\n",
      "Total 32490\n",
      "\n",
      "Holdout\n",
      "PV 226\n",
      "Garnett 247\n",
      "Katz 226\n",
      "McDuff 21\n",
      "Hogarth 21\n",
      "Total 741\n"
     ]
    }
   ],
   "source": [
    "total = 0\n",
    "print('Train')\n",
    "for k in translator_to_pars.keys():\n",
    "    print(k, len(translator_to_pars[k]))\n",
    "    total += len(translator_to_pars[k])\n",
    "print('Total', total)\n",
    "\n",
    "total = 0\n",
    "print('\\nHoldout')\n",
    "for k in translator_to_pars_holdout.keys():\n",
    "    print(k, len(translator_to_pars_holdout[k]))\n",
    "    total += len(translator_to_pars_holdout[k])\n",
    "print('Total', total)"
   ]
  },
  {
   "cell_type": "code",
   "execution_count": 17,
   "metadata": {},
   "outputs": [
    {
     "name": "stdout",
     "output_type": "stream",
     "text": [
      "[0 3 4 2 1]\n"
     ]
    }
   ],
   "source": [
    "from sklearn.preprocessing import LabelEncoder\n",
    "\n",
    "le = LabelEncoder()\n",
    "le.fit(list(translator_to_pars.keys()))\n",
    "print(le.transform([\"Garnett\", \"McDuff\", \"PV\", \"Katz\", \"Hogarth\"]))"
   ]
  },
  {
   "cell_type": "code",
   "execution_count": 18,
   "metadata": {},
   "outputs": [
    {
     "name": "stdout",
     "output_type": "stream",
     "text": [
      "[{'idx': 6561, 'book': 'AnnaKarenina', 'labels': 4, 'sentence': 'Пришла графиня, села на диван и спросила тоже про жену и про концерт. + The countess came in, sat on the sofa and also asked about his wife and the concert.'}, {'idx': 117, 'book': 'AnnaKarenina', 'labels': 4, 'sentence': '«Ведь любит же она моего ребенка, – подумал он, заметив изменение ее лица при крике ребенка, – моего ребенка; как же она может ненавидеть меня»? + \\'But she does love my child, he thought, noticing the change in her face at the child\\'s cry, \\'my child - so how can she hate me?\"'}, {'idx': 4607, 'book': 'AnnaKarenina', 'labels': 4, 'sentence': \"Лицо Кити вдруг переменилось. Мысли о Тане маркизой, о Долли, все это исчезло. + Kitty's countenance suddenly changed. Her thoughts about Tanya as a marquise, about Dolly, all vanished.\"}, {'idx': 733, 'book': 'AnnaKarenina', 'labels': 4, 'sentence': \"– А ты сияешь счастьем и здоровьем! – сказала Долли почти с завистью. + 'And you are radiant with happiness and health,' said Dolly, almost with envy.\"}, {'idx': 1730, 'book': 'AnnaKarenina', 'labels': 4, 'sentence': \"Левин, ставивший между тем ружье в шкаф, уже выходил из двери, но, услыхав слова купца, остановился. + Levin, who meanwhile had put his gun away in a cupboard, was going out of the door, but hearing the merchant's words, he stopped.\"}, {'idx': 7306, 'book': 'AnnaKarenina', 'labels': 4, 'sentence': 'Кити чувствовала, что Анна враждебно смотрит на нее. Она объясняла эту враждебность неловким положением, в котором теперь чувствовала себя пред ней прежде покровительствовавшая ей Анна, и ей стало жалко ее. + Kitty felt that Anna was looking at her with animosity. She explained this animosity by the awkward position that Anna, who had once patronized her, now felt herself to be in, and she felt sorry for her.'}, {'idx': 701, 'book': 'AnnaKarenina', 'labels': 4, 'sentence': \"– Теперь пойдемте, – сказал Вронский, входя. Они вместе вышли. Вронский шел впереди с матерью. Сзади шла Каренина с братом. У выхода к Вронскому подошел догнавший его начальник станции. + 'Let's go now,' said Vronsky, entering. They went out together. Vronsky walked ahead with his mother. Behind came Mme Karenina with her brother. At the exit, the stationmaster overtook Vronsky and came up to him.\"}, {'idx': 5548, 'book': 'AnnaKarenina', 'labels': 4, 'sentence': \"– Теперь идите вы, а я побуду с лошадьми, – сказал он. + 'Now you go and I'll stay with the horses,' he said.\"}, {'idx': 7550, 'book': 'AnnaKarenina', 'labels': 4, 'sentence': \"«В бесконечном времени, в бесконечности материи, в бесконечном пространстве выделяется пузырек-организм, и пузырек этот подержится и лопнет, и пузырек этот – я». + 'In infinite time, in the infinity of matter, in infinite space, a bubble-organism separates itself, and that bubble holds out for a while and then bursts, and that bubble is - me.'\"}, {'idx': 1119, 'book': 'AnnaKarenina', 'labels': 4, 'sentence': 'Но графиня Лидия Ивановна, всем до нее не касавшимся интересовавшаяся, имела привычку никогда не слушать того, что ее интересовало; она перебила Анну: + But Countess Lydia Ivanovna, who was interested in everything that did not concern her, had the habit of never listening to what interested her. She interrupted Anna:'}]\n"
     ]
    }
   ],
   "source": [
    "data_list = []\n",
    "i = 0\n",
    "for tr in translator_to_pars.keys():\n",
    "    label = le.transform([tr])[0]\n",
    "    for d in translator_to_pars[tr]:\n",
    "        src, trn = d['source'], d['translation']\n",
    "        s = src + ' + ' + trn\n",
    "        sent_dict = {'idx': d['idx'], 'book':d['book'], 'labels': label, 'sentence': s}\n",
    "        data_list.append(sent_dict)\n",
    "        i += 1\n",
    "\n",
    "\n",
    "data_list_holdout = []\n",
    "i = 0\n",
    "for tr in translator_to_pars_holdout.keys():\n",
    "    label = le.transform([tr])[0]\n",
    "    for d in translator_to_pars_holdout[tr]:\n",
    "        src, trn = d['source'], d['translation']\n",
    "        s = src + ' + ' + trn\n",
    "        sent_dict = {'idx': d['idx'], 'book':d['book'], 'labels': label, 'sentence': s}\n",
    "        data_list_holdout.append(sent_dict)\n",
    "        i += 1\n",
    "        \n",
    "print(data_list[:10])"
   ]
  },
  {
   "cell_type": "code",
   "execution_count": 19,
   "metadata": {},
   "outputs": [
    {
     "data": {
      "text/html": [
       "<div>\n",
       "<style scoped>\n",
       "    .dataframe tbody tr th:only-of-type {\n",
       "        vertical-align: middle;\n",
       "    }\n",
       "\n",
       "    .dataframe tbody tr th {\n",
       "        vertical-align: top;\n",
       "    }\n",
       "\n",
       "    .dataframe thead th {\n",
       "        text-align: right;\n",
       "    }\n",
       "</style>\n",
       "<table border=\"1\" class=\"dataframe\">\n",
       "  <thead>\n",
       "    <tr style=\"text-align: right;\">\n",
       "      <th></th>\n",
       "      <th>idx</th>\n",
       "      <th>book</th>\n",
       "      <th>labels</th>\n",
       "      <th>sentence</th>\n",
       "    </tr>\n",
       "  </thead>\n",
       "  <tbody>\n",
       "    <tr>\n",
       "      <th>0</th>\n",
       "      <td>6561</td>\n",
       "      <td>AnnaKarenina</td>\n",
       "      <td>4</td>\n",
       "      <td>Пришла графиня, села на диван и спросила тоже про жену и про концерт. + The countess came in, sat on the sofa and also asked about his wife and the concert.</td>\n",
       "    </tr>\n",
       "    <tr>\n",
       "      <th>1</th>\n",
       "      <td>117</td>\n",
       "      <td>AnnaKarenina</td>\n",
       "      <td>4</td>\n",
       "      <td>«Ведь любит же она моего ребенка, – подумал он, заметив изменение ее лица при крике ребенка, – моего ребенка; как же она может ненавидеть меня»? + 'But she does love my child, he thought, noticing the change in her face at the child's cry, 'my child - so how can she hate me?\"</td>\n",
       "    </tr>\n",
       "    <tr>\n",
       "      <th>2</th>\n",
       "      <td>4607</td>\n",
       "      <td>AnnaKarenina</td>\n",
       "      <td>4</td>\n",
       "      <td>Лицо Кити вдруг переменилось. Мысли о Тане маркизой, о Долли, все это исчезло. + Kitty's countenance suddenly changed. Her thoughts about Tanya as a marquise, about Dolly, all vanished.</td>\n",
       "    </tr>\n",
       "    <tr>\n",
       "      <th>3</th>\n",
       "      <td>733</td>\n",
       "      <td>AnnaKarenina</td>\n",
       "      <td>4</td>\n",
       "      <td>– А ты сияешь счастьем и здоровьем! – сказала Долли почти с завистью. + 'And you are radiant with happiness and health,' said Dolly, almost with envy.</td>\n",
       "    </tr>\n",
       "    <tr>\n",
       "      <th>4</th>\n",
       "      <td>1730</td>\n",
       "      <td>AnnaKarenina</td>\n",
       "      <td>4</td>\n",
       "      <td>Левин, ставивший между тем ружье в шкаф, уже выходил из двери, но, услыхав слова купца, остановился. + Levin, who meanwhile had put his gun away in a cupboard, was going out of the door, but hearing the merchant's words, he stopped.</td>\n",
       "    </tr>\n",
       "  </tbody>\n",
       "</table>\n",
       "</div>"
      ],
      "text/plain": [
       "    idx          book  labels  \\\n",
       "0  6561  AnnaKarenina  4        \n",
       "1  117   AnnaKarenina  4        \n",
       "2  4607  AnnaKarenina  4        \n",
       "3  733   AnnaKarenina  4        \n",
       "4  1730  AnnaKarenina  4        \n",
       "\n",
       "                                                                                                                                                                                                                                                                               sentence  \n",
       "0  Пришла графиня, села на диван и спросила тоже про жену и про концерт. + The countess came in, sat on the sofa and also asked about his wife and the concert.                                                                                                                          \n",
       "1  «Ведь любит же она моего ребенка, – подумал он, заметив изменение ее лица при крике ребенка, – моего ребенка; как же она может ненавидеть меня»? + 'But she does love my child, he thought, noticing the change in her face at the child's cry, 'my child - so how can she hate me?\"  \n",
       "2  Лицо Кити вдруг переменилось. Мысли о Тане маркизой, о Долли, все это исчезло. + Kitty's countenance suddenly changed. Her thoughts about Tanya as a marquise, about Dolly, all vanished.                                                                                             \n",
       "3  – А ты сияешь счастьем и здоровьем! – сказала Долли почти с завистью. + 'And you are radiant with happiness and health,' said Dolly, almost with envy.                                                                                                                                \n",
       "4  Левин, ставивший между тем ружье в шкаф, уже выходил из двери, но, услыхав слова купца, остановился. + Levin, who meanwhile had put his gun away in a cupboard, was going out of the door, but hearing the merchant's words, he stopped.                                              "
      ]
     },
     "execution_count": 19,
     "metadata": {},
     "output_type": "execute_result"
    }
   ],
   "source": [
    "import pandas as pd\n",
    "\n",
    "df = pd.DataFrame(data_list)\n",
    "df_holdout = pd.DataFrame(data_list_holdout)\n",
    "pd.set_option('display.max_colwidth', 0)\n",
    "df.head()"
   ]
  },
  {
   "cell_type": "code",
   "execution_count": 20,
   "metadata": {},
   "outputs": [
    {
     "data": {
      "text/plain": [
       "(741, 4)"
      ]
     },
     "execution_count": 20,
     "metadata": {},
     "output_type": "execute_result"
    }
   ],
   "source": [
    "df.shape\n",
    "df_holdout.shape"
   ]
  },
  {
   "cell_type": "code",
   "execution_count": 21,
   "metadata": {},
   "outputs": [
    {
     "name": "stdout",
     "output_type": "stream",
     "text": [
      "train size:  24367\n",
      "test size:  741\n",
      "{'label': 0, 'text': '– Ну чего же ты? Чего же ты? Зачем ты его так? – вскинулся Федор Павлович, но коляска уже поехала. Иван Федорович не ответил. + \"Why, what are you doing, what are you about? Why did you do that?\" Fyodor Pavlovitch protested. But the carriage had already driven away. Ivan made no reply.'}\n"
     ]
    }
   ],
   "source": [
    "from sklearn.model_selection import train_test_split\n",
    "\n",
    "# train_texts = df['sentence'].values.tolist()\n",
    "# train_labels = df['labels'].values.tolist()\n",
    "test_texts = df_holdout['sentence'].values.tolist()\n",
    "test_labels = df_holdout['labels'].values.tolist()\n",
    "\n",
    "train_texts, _, train_labels, _ = train_test_split(\n",
    "    df['sentence'].values.tolist(), df['labels'].values.tolist(),\n",
    "    stratify = df['labels'], shuffle=True\n",
    ")\n",
    "\n",
    "print('train size: ', len(list(train_labels)))\n",
    "print('test size: ', len(list(test_labels)))\n",
    "\n",
    "sentences = {}\n",
    "sentences['train'] = []\n",
    "sentences['test'] = []\n",
    "for t, l in zip(train_texts, train_labels):\n",
    "    datum = {'label': l, 'text': t}\n",
    "    sentences['train'].append(datum)\n",
    "for t, l in zip(test_texts, test_labels):\n",
    "    datum = {'label': l, 'text': t}\n",
    "    sentences['test'].append(datum)\n",
    "\n",
    "print(sentences['train'][4])"
   ]
  },
  {
   "cell_type": "markdown",
   "metadata": {},
   "source": [
    "## Train Model"
   ]
  },
  {
   "cell_type": "code",
   "execution_count": 22,
   "metadata": {},
   "outputs": [],
   "source": [
    "BERT_MODEL = \"bert-base-multilingual-cased\"\n",
    "\n",
    "from transformers import AutoTokenizer\n",
    "\n",
    "tokenizer = AutoTokenizer.from_pretrained('bert-base-multilingual-cased')"
   ]
  },
  {
   "cell_type": "code",
   "execution_count": 23,
   "metadata": {},
   "outputs": [],
   "source": [
    "import datasets\n",
    "\n",
    "train_dataset = datasets.Dataset.from_pandas(pd.DataFrame(data=sentences['train']))\n",
    "test_dataset = datasets.Dataset.from_pandas(pd.DataFrame(data=sentences['test']))"
   ]
  },
  {
   "cell_type": "code",
   "execution_count": 24,
   "metadata": {},
   "outputs": [
    {
     "data": {
      "application/vnd.jupyter.widget-view+json": {
       "model_id": "9cb3552c5782447c8ea7c928eaf93277",
       "version_major": 2,
       "version_minor": 0
      },
      "text/plain": [
       "Map:   0%|          | 0/24367 [00:00<?, ? examples/s]"
      ]
     },
     "metadata": {},
     "output_type": "display_data"
    },
    {
     "data": {
      "application/vnd.jupyter.widget-view+json": {
       "model_id": "b199482b21364b1f899df5cdf007cba1",
       "version_major": 2,
       "version_minor": 0
      },
      "text/plain": [
       "Map:   0%|          | 0/741 [00:00<?, ? examples/s]"
      ]
     },
     "metadata": {},
     "output_type": "display_data"
    }
   ],
   "source": [
    "def preprocess_function(examples):\n",
    "    return tokenizer(examples[\"text\"], truncation=True)\n",
    "\n",
    "tokenized_train = train_dataset.map(preprocess_function, batched=True)\n",
    "tokenized_test = test_dataset.map(preprocess_function, batched=True)"
   ]
  },
  {
   "cell_type": "code",
   "execution_count": 25,
   "metadata": {},
   "outputs": [],
   "source": [
    "from transformers import DataCollatorWithPadding\n",
    "\n",
    "data_collator = DataCollatorWithPadding(tokenizer=tokenizer)"
   ]
  },
  {
   "cell_type": "code",
   "execution_count": 26,
   "metadata": {},
   "outputs": [],
   "source": [
    "import evaluate\n",
    "import numpy as np\n",
    "\n",
    "accuracy = evaluate.load(\"accuracy\")\n",
    "\n",
    "\n",
    "def compute_metrics(eval_pred):\n",
    "    predictions, labels = eval_pred\n",
    "    predictions = np.argmax(predictions, axis=1)\n",
    "    return accuracy.compute(predictions=predictions, references=labels)"
   ]
  },
  {
   "cell_type": "code",
   "execution_count": 27,
   "metadata": {},
   "outputs": [
    {
     "name": "stdout",
     "output_type": "stream",
     "text": [
      "{4: 'PV', 0: 'Garnett', 2: 'Katz', 3: 'McDuff', 1: 'Hogarth'}\n",
      "{'PV': 4, 'Garnett': 0, 'Katz': 2, 'McDuff': 3, 'Hogarth': 1}\n"
     ]
    }
   ],
   "source": [
    "label_list = translator_to_pars.keys()\n",
    "id_list = le.transform(list(label_list))\n",
    "\n",
    "id2label = {}\n",
    "label2id = {}\n",
    "for l, i in zip(label_list, id_list):\n",
    "    id2label[i] = l\n",
    "    label2id[l] = i\n",
    "\n",
    "print(id2label)\n",
    "print(label2id)"
   ]
  },
  {
   "cell_type": "code",
   "execution_count": 28,
   "metadata": {},
   "outputs": [],
   "source": [
    "fine_tune = True"
   ]
  },
  {
   "cell_type": "code",
   "execution_count": 29,
   "metadata": {},
   "outputs": [
    {
     "name": "stderr",
     "output_type": "stream",
     "text": [
      "Some weights of BertForSequenceClassification were not initialized from the model checkpoint at bert-base-multilingual-cased and are newly initialized: ['classifier.bias', 'classifier.weight']\n",
      "You should probably TRAIN this model on a down-stream task to be able to use it for predictions and inference.\n"
     ]
    }
   ],
   "source": [
    "from numpy import mean\n",
    "from torch import nn\n",
    "from torch.utils.data import DataLoader\n",
    "from transformers import AutoModelForSequenceClassification, Trainer, TrainingArguments\n",
    "\n",
    "# device (turn on GPU acceleration for faster execution)\n",
    "# device = torch.device('cuda') if torch.cuda.is_available() else torch.device('cpu')\n",
    "\n",
    "if fine_tune:\n",
    "    # model\n",
    "    model = AutoModelForSequenceClassification.from_pretrained(\"bert-base-multilingual-cased\", num_labels = len(translator_to_pars.keys()))\n",
    "    model.to(device)"
   ]
  },
  {
   "cell_type": "code",
   "execution_count": 30,
   "metadata": {},
   "outputs": [],
   "source": [
    "lr = 2e-5\n",
    "epochs = 10\n",
    "batch_size = 8"
   ]
  },
  {
   "cell_type": "code",
   "execution_count": 31,
   "metadata": {},
   "outputs": [
    {
     "name": "stderr",
     "output_type": "stream",
     "text": [
      "Failed to detect the name of this notebook, you can set it manually with the WANDB_NOTEBOOK_NAME environment variable to enable code saving.\n",
      "\u001b[34m\u001b[1mwandb\u001b[0m: Currently logged in as: \u001b[33mkkatsy\u001b[0m. Use \u001b[1m`wandb login --relogin`\u001b[0m to force relogin\n"
     ]
    },
    {
     "data": {
      "text/html": [
       "Tracking run with wandb version 0.16.3"
      ],
      "text/plain": [
       "<IPython.core.display.HTML object>"
      ]
     },
     "metadata": {},
     "output_type": "display_data"
    },
    {
     "data": {
      "text/html": [
       "Run data is saved locally in <code>/home/kkatsy/wandb/run-20240216_004721-j3bjc718</code>"
      ],
      "text/plain": [
       "<IPython.core.display.HTML object>"
      ]
     },
     "metadata": {},
     "output_type": "display_data"
    },
    {
     "data": {
      "text/html": [
       "Syncing run <strong><a href='https://wandb.ai/kkatsy/translator-classification-aligned/runs/j3bjc718' target=\"_blank\">sweet-lamp-12</a></strong> to <a href='https://wandb.ai/kkatsy/translator-classification-aligned' target=\"_blank\">Weights & Biases</a> (<a href='https://wandb.me/run' target=\"_blank\">docs</a>)<br/>"
      ],
      "text/plain": [
       "<IPython.core.display.HTML object>"
      ]
     },
     "metadata": {},
     "output_type": "display_data"
    },
    {
     "data": {
      "text/html": [
       " View project at <a href='https://wandb.ai/kkatsy/translator-classification-aligned' target=\"_blank\">https://wandb.ai/kkatsy/translator-classification-aligned</a>"
      ],
      "text/plain": [
       "<IPython.core.display.HTML object>"
      ]
     },
     "metadata": {},
     "output_type": "display_data"
    },
    {
     "data": {
      "text/html": [
       " View run at <a href='https://wandb.ai/kkatsy/translator-classification-aligned/runs/j3bjc718' target=\"_blank\">https://wandb.ai/kkatsy/translator-classification-aligned/runs/j3bjc718</a>"
      ],
      "text/plain": [
       "<IPython.core.display.HTML object>"
      ]
     },
     "metadata": {},
     "output_type": "display_data"
    }
   ],
   "source": [
    "import wandb\n",
    "\n",
    "run = wandb.init(\n",
    "        # Set the project where this run will be logged\n",
    "        project=\"translator-classification-aligned\",\n",
    "        # Track hyperparameters and run metadata\n",
    "        config={\n",
    "            \"learning_rate\": lr,\n",
    "            \"epochs\": epochs,\n",
    "        },\n",
    "    )\n",
    "\n",
    "os.environ[\"WANDB_PROJECT\"]=\"translator-classification-aligned\"\n",
    "os.environ[\"WANDB_NOTEBOOK_NAME\"]=\"translator-classification-aligned\""
   ]
  },
  {
   "cell_type": "code",
   "execution_count": 32,
   "metadata": {},
   "outputs": [
    {
     "name": "stderr",
     "output_type": "stream",
     "text": [
      "Detected kernel version 5.4.0, which is below the recommended minimum of 5.5.0; this can cause the process to hang. It is recommended to upgrade the kernel to the minimum version or higher.\n"
     ]
    }
   ],
   "source": [
    "if fine_tune:\n",
    "    training_args = TrainingArguments(\n",
    "        output_dir=\"/trunk/kkatsy/aligned_10epochs_holdout\",\n",
    "        learning_rate=lr,\n",
    "        per_device_train_batch_size=batch_size,\n",
    "        per_device_eval_batch_size=batch_size,\n",
    "        num_train_epochs=epochs,\n",
    "        weight_decay=0.01,\n",
    "        evaluation_strategy=\"epoch\",\n",
    "        save_strategy=\"epoch\",\n",
    "        load_best_model_at_end=True,\n",
    "        push_to_hub=False,\n",
    "        report_to=\"wandb\"\n",
    "    )\n",
    "\n",
    "    trainer = Trainer(\n",
    "        model=model,\n",
    "        args=training_args,\n",
    "        train_dataset=tokenized_train,\n",
    "        eval_dataset=tokenized_test,\n",
    "        tokenizer=tokenizer,\n",
    "        data_collator=data_collator,\n",
    "        compute_metrics=compute_metrics\n",
    "    )"
   ]
  },
  {
   "cell_type": "code",
   "execution_count": 33,
   "metadata": {},
   "outputs": [
    {
     "name": "stderr",
     "output_type": "stream",
     "text": [
      "/home/kkatsy/anaconda3/lib/python3.11/site-packages/torch/nn/parallel/_functions.py:68: UserWarning: Was asked to gather along dimension 0, but all input tensors were scalars; will instead unsqueeze and return a vector.\n",
      "  warnings.warn('Was asked to gather along dimension 0, but all '\n"
     ]
    },
    {
     "data": {
      "text/html": [
       "\n",
       "    <div>\n",
       "      \n",
       "      <progress value='15230' max='15230' style='width:300px; height:20px; vertical-align: middle;'></progress>\n",
       "      [15230/15230 1:25:46, Epoch 10/10]\n",
       "    </div>\n",
       "    <table border=\"1\" class=\"dataframe\">\n",
       "  <thead>\n",
       " <tr style=\"text-align: left;\">\n",
       "      <th>Epoch</th>\n",
       "      <th>Training Loss</th>\n",
       "      <th>Validation Loss</th>\n",
       "      <th>Accuracy</th>\n",
       "    </tr>\n",
       "  </thead>\n",
       "  <tbody>\n",
       "    <tr>\n",
       "      <td>1</td>\n",
       "      <td>0.743200</td>\n",
       "      <td>1.265373</td>\n",
       "      <td>0.456140</td>\n",
       "    </tr>\n",
       "    <tr>\n",
       "      <td>2</td>\n",
       "      <td>0.577200</td>\n",
       "      <td>1.402141</td>\n",
       "      <td>0.502024</td>\n",
       "    </tr>\n",
       "    <tr>\n",
       "      <td>3</td>\n",
       "      <td>0.471000</td>\n",
       "      <td>1.433015</td>\n",
       "      <td>0.527665</td>\n",
       "    </tr>\n",
       "    <tr>\n",
       "      <td>4</td>\n",
       "      <td>0.358800</td>\n",
       "      <td>1.501103</td>\n",
       "      <td>0.564103</td>\n",
       "    </tr>\n",
       "    <tr>\n",
       "      <td>5</td>\n",
       "      <td>0.261500</td>\n",
       "      <td>2.085426</td>\n",
       "      <td>0.539811</td>\n",
       "    </tr>\n",
       "    <tr>\n",
       "      <td>6</td>\n",
       "      <td>0.188100</td>\n",
       "      <td>2.194514</td>\n",
       "      <td>0.566802</td>\n",
       "    </tr>\n",
       "    <tr>\n",
       "      <td>7</td>\n",
       "      <td>0.150900</td>\n",
       "      <td>2.824496</td>\n",
       "      <td>0.556005</td>\n",
       "    </tr>\n",
       "    <tr>\n",
       "      <td>8</td>\n",
       "      <td>0.121800</td>\n",
       "      <td>3.202021</td>\n",
       "      <td>0.558704</td>\n",
       "    </tr>\n",
       "    <tr>\n",
       "      <td>9</td>\n",
       "      <td>0.085500</td>\n",
       "      <td>3.351633</td>\n",
       "      <td>0.566802</td>\n",
       "    </tr>\n",
       "    <tr>\n",
       "      <td>10</td>\n",
       "      <td>0.066000</td>\n",
       "      <td>3.454962</td>\n",
       "      <td>0.568151</td>\n",
       "    </tr>\n",
       "  </tbody>\n",
       "</table><p>"
      ],
      "text/plain": [
       "<IPython.core.display.HTML object>"
      ]
     },
     "metadata": {},
     "output_type": "display_data"
    },
    {
     "name": "stderr",
     "output_type": "stream",
     "text": [
      "Checkpoint destination directory /trunk/kkatsy/aligned_10epochs_holdout/checkpoint-1523 already exists and is non-empty.Saving will proceed but saved results may be invalid.\n",
      "/home/kkatsy/anaconda3/lib/python3.11/site-packages/torch/nn/parallel/_functions.py:68: UserWarning: Was asked to gather along dimension 0, but all input tensors were scalars; will instead unsqueeze and return a vector.\n",
      "  warnings.warn('Was asked to gather along dimension 0, but all '\n",
      "/home/kkatsy/anaconda3/lib/python3.11/site-packages/torch/nn/parallel/_functions.py:68: UserWarning: Was asked to gather along dimension 0, but all input tensors were scalars; will instead unsqueeze and return a vector.\n",
      "  warnings.warn('Was asked to gather along dimension 0, but all '\n",
      "/home/kkatsy/anaconda3/lib/python3.11/site-packages/torch/nn/parallel/_functions.py:68: UserWarning: Was asked to gather along dimension 0, but all input tensors were scalars; will instead unsqueeze and return a vector.\n",
      "  warnings.warn('Was asked to gather along dimension 0, but all '\n",
      "/home/kkatsy/anaconda3/lib/python3.11/site-packages/torch/nn/parallel/_functions.py:68: UserWarning: Was asked to gather along dimension 0, but all input tensors were scalars; will instead unsqueeze and return a vector.\n",
      "  warnings.warn('Was asked to gather along dimension 0, but all '\n",
      "/home/kkatsy/anaconda3/lib/python3.11/site-packages/torch/nn/parallel/_functions.py:68: UserWarning: Was asked to gather along dimension 0, but all input tensors were scalars; will instead unsqueeze and return a vector.\n",
      "  warnings.warn('Was asked to gather along dimension 0, but all '\n",
      "/home/kkatsy/anaconda3/lib/python3.11/site-packages/torch/nn/parallel/_functions.py:68: UserWarning: Was asked to gather along dimension 0, but all input tensors were scalars; will instead unsqueeze and return a vector.\n",
      "  warnings.warn('Was asked to gather along dimension 0, but all '\n",
      "/home/kkatsy/anaconda3/lib/python3.11/site-packages/torch/nn/parallel/_functions.py:68: UserWarning: Was asked to gather along dimension 0, but all input tensors were scalars; will instead unsqueeze and return a vector.\n",
      "  warnings.warn('Was asked to gather along dimension 0, but all '\n",
      "/home/kkatsy/anaconda3/lib/python3.11/site-packages/torch/nn/parallel/_functions.py:68: UserWarning: Was asked to gather along dimension 0, but all input tensors were scalars; will instead unsqueeze and return a vector.\n",
      "  warnings.warn('Was asked to gather along dimension 0, but all '\n",
      "/home/kkatsy/anaconda3/lib/python3.11/site-packages/torch/nn/parallel/_functions.py:68: UserWarning: Was asked to gather along dimension 0, but all input tensors were scalars; will instead unsqueeze and return a vector.\n",
      "  warnings.warn('Was asked to gather along dimension 0, but all '\n"
     ]
    }
   ],
   "source": [
    "if fine_tune:\n",
    "    trainer.train()"
   ]
  },
  {
   "cell_type": "code",
   "execution_count": 34,
   "metadata": {},
   "outputs": [
    {
     "name": "stderr",
     "output_type": "stream",
     "text": [
      "/home/kkatsy/anaconda3/lib/python3.11/site-packages/torch/nn/parallel/_functions.py:68: UserWarning: Was asked to gather along dimension 0, but all input tensors were scalars; will instead unsqueeze and return a vector.\n",
      "  warnings.warn('Was asked to gather along dimension 0, but all '\n"
     ]
    },
    {
     "data": {
      "text/html": [],
      "text/plain": [
       "<IPython.core.display.HTML object>"
      ]
     },
     "metadata": {},
     "output_type": "display_data"
    }
   ],
   "source": [
    "if fine_tune:\n",
    "    trainer.evaluate()"
   ]
  },
  {
   "cell_type": "code",
   "execution_count": 35,
   "metadata": {},
   "outputs": [
    {
     "data": {
      "application/vnd.jupyter.widget-view+json": {
       "model_id": "0a51ba961af44c8fadc460f263dedd4c",
       "version_major": 2,
       "version_minor": 0
      },
      "text/plain": [
       "VBox(children=(Label(value='0.003 MB of 0.003 MB uploaded\\r'), FloatProgress(value=1.0, max=1.0)))"
      ]
     },
     "metadata": {},
     "output_type": "display_data"
    },
    {
     "data": {
      "text/html": [
       "<style>\n",
       "    table.wandb td:nth-child(1) { padding: 0 10px; text-align: left ; width: auto;} td:nth-child(2) {text-align: left ; width: 100%}\n",
       "    .wandb-row { display: flex; flex-direction: row; flex-wrap: wrap; justify-content: flex-start; width: 100% }\n",
       "    .wandb-col { display: flex; flex-direction: column; flex-basis: 100%; flex: 1; padding: 10px; }\n",
       "    </style>\n",
       "<div class=\"wandb-row\"><div class=\"wandb-col\"><h3>Run history:</h3><br/><table class=\"wandb\"><tr><td>eval/accuracy</td><td>▁▄▅█▆█▇▇██▁</td></tr><tr><td>eval/loss</td><td>▁▁▂▂▄▄▆▇██▁</td></tr><tr><td>eval/runtime</td><td>▆▄▄▃█▄▄▆▇▆▁</td></tr><tr><td>eval/samples_per_second</td><td>▃▅▅▆▁▅▅▃▂▃█</td></tr><tr><td>eval/steps_per_second</td><td>▃▅▅▆▁▅▅▃▃▃█</td></tr><tr><td>train/epoch</td><td>▁▁▁▁▂▂▂▂▂▃▃▃▃▃▄▄▄▄▄▄▅▅▅▅▆▆▆▆▆▆▇▇▇▇▇▇████</td></tr><tr><td>train/global_step</td><td>▁▁▁▁▂▂▂▂▂▃▃▃▃▃▄▄▄▄▄▄▅▅▅▅▆▆▆▆▆▆▇▇▇▇▇▇████</td></tr><tr><td>train/learning_rate</td><td>███▇▇▇▇▆▆▆▆▅▅▅▅▄▄▄▄▃▃▃▃▂▂▂▂▁▁▁</td></tr><tr><td>train/loss</td><td>█▆▆▅▅▄▄▄▄▃▃▃▂▂▂▂▂▂▂▂▂▁▁▁▁▁▁▁▁▁</td></tr><tr><td>train/total_flos</td><td>▁</td></tr><tr><td>train/train_loss</td><td>▁</td></tr><tr><td>train/train_runtime</td><td>▁</td></tr><tr><td>train/train_samples_per_second</td><td>▁</td></tr><tr><td>train/train_steps_per_second</td><td>▁</td></tr></table><br/></div><div class=\"wandb-col\"><h3>Run summary:</h3><br/><table class=\"wandb\"><tr><td>eval/accuracy</td><td>0.45614</td></tr><tr><td>eval/loss</td><td>1.26537</td></tr><tr><td>eval/runtime</td><td>6.4145</td></tr><tr><td>eval/samples_per_second</td><td>115.519</td></tr><tr><td>eval/steps_per_second</td><td>7.327</td></tr><tr><td>train/epoch</td><td>10.0</td></tr><tr><td>train/global_step</td><td>15230</td></tr><tr><td>train/learning_rate</td><td>0.0</td></tr><tr><td>train/loss</td><td>0.066</td></tr><tr><td>train/total_flos</td><td>1.762683680898201e+16</td></tr><tr><td>train/train_loss</td><td>0.31352</td></tr><tr><td>train/train_runtime</td><td>5148.0393</td></tr><tr><td>train/train_samples_per_second</td><td>47.333</td></tr><tr><td>train/train_steps_per_second</td><td>2.958</td></tr></table><br/></div></div>"
      ],
      "text/plain": [
       "<IPython.core.display.HTML object>"
      ]
     },
     "metadata": {},
     "output_type": "display_data"
    },
    {
     "data": {
      "text/html": [
       " View run <strong style=\"color:#cdcd00\">sweet-lamp-12</strong> at: <a href='https://wandb.ai/kkatsy/translator-classification-aligned/runs/j3bjc718' target=\"_blank\">https://wandb.ai/kkatsy/translator-classification-aligned/runs/j3bjc718</a><br/>Synced 6 W&B file(s), 0 media file(s), 0 artifact file(s) and 0 other file(s)"
      ],
      "text/plain": [
       "<IPython.core.display.HTML object>"
      ]
     },
     "metadata": {},
     "output_type": "display_data"
    },
    {
     "data": {
      "text/html": [
       "Find logs at: <code>./wandb/run-20240216_004721-j3bjc718/logs</code>"
      ],
      "text/plain": [
       "<IPython.core.display.HTML object>"
      ]
     },
     "metadata": {},
     "output_type": "display_data"
    }
   ],
   "source": [
    "wandb.finish()"
   ]
  },
  {
   "cell_type": "markdown",
   "metadata": {},
   "source": [
    "## Load Model"
   ]
  },
  {
   "cell_type": "code",
   "execution_count": 36,
   "metadata": {},
   "outputs": [],
   "source": [
    "load_tuned = True"
   ]
  },
  {
   "cell_type": "code",
   "execution_count": 50,
   "metadata": {},
   "outputs": [],
   "source": [
    "if load_tuned:\n",
    "    model = AutoModelForSequenceClassification.from_pretrained(\"/trunk/kkatsy/aligned_10epochs_holdout/checkpoint-15230\")\n",
    "    model.to(device)"
   ]
  },
  {
   "cell_type": "code",
   "execution_count": 51,
   "metadata": {},
   "outputs": [],
   "source": [
    "if load_tuned:\n",
    "    training_args = TrainingArguments(\n",
    "        output_dir=\"/trunk/kkatsy/classification_10epochs_holdout\",\n",
    "        learning_rate=lr,\n",
    "        per_device_train_batch_size=batch_size,\n",
    "        per_device_eval_batch_size=batch_size,\n",
    "        num_train_epochs=epochs,\n",
    "        weight_decay=0.01,\n",
    "        evaluation_strategy=\"epoch\",\n",
    "        save_strategy=\"epoch\",\n",
    "        load_best_model_at_end=True,\n",
    "        push_to_hub=False,\n",
    "        report_to=\"wandb\"\n",
    "    )\n",
    "\n",
    "    trainer = Trainer(\n",
    "        model=model,\n",
    "        args=training_args,\n",
    "        train_dataset=tokenized_train,\n",
    "        eval_dataset=tokenized_test,\n",
    "        tokenizer=tokenizer,\n",
    "        data_collator=data_collator,\n",
    "        compute_metrics=compute_metrics\n",
    "    )"
   ]
  },
  {
   "cell_type": "markdown",
   "metadata": {},
   "source": [
    "## Evaluate"
   ]
  },
  {
   "cell_type": "code",
   "execution_count": 52,
   "metadata": {},
   "outputs": [],
   "source": [
    "if load_tuned:\n",
    "    trainer.evaluate()"
   ]
  },
  {
   "cell_type": "code",
   "execution_count": 53,
   "metadata": {},
   "outputs": [
    {
     "name": "stderr",
     "output_type": "stream",
     "text": [
      "/home/kkatsy/anaconda3/lib/python3.11/site-packages/torch/nn/parallel/_functions.py:68: UserWarning: Was asked to gather along dimension 0, but all input tensors were scalars; will instead unsqueeze and return a vector.\n",
      "  warnings.warn('Was asked to gather along dimension 0, but all '\n"
     ]
    },
    {
     "data": {
      "text/html": [],
      "text/plain": [
       "<IPython.core.display.HTML object>"
      ]
     },
     "metadata": {},
     "output_type": "display_data"
    }
   ],
   "source": [
    "predictions, labels, metrics = trainer.predict(tokenized_test, metric_key_prefix=\"predict\")"
   ]
  },
  {
   "cell_type": "code",
   "execution_count": 54,
   "metadata": {},
   "outputs": [
    {
     "data": {
      "text/plain": [
       "array([2, 0, 0, 0, 4, 0, 0, 4, 0, 0, 4, 4, 4, 4, 4, 4, 4, 0, 4, 0, 0, 4,\n",
       "       0, 4, 4, 0, 0, 4, 4, 4, 4, 4, 0, 4, 0, 0, 4, 4, 4, 4, 4, 0, 0, 0,\n",
       "       0, 4, 4, 4, 0, 0, 4, 4, 4, 3, 4, 4, 4, 4, 4, 3, 4, 0, 0, 4, 4, 4,\n",
       "       4, 3, 4, 4, 0, 4, 4, 4, 0, 0, 4, 4, 4, 4, 4, 4, 0, 4, 3, 0, 0, 0,\n",
       "       4, 4, 0, 4, 4, 4, 4, 4, 4, 3, 4, 4, 0, 0, 4, 4, 0, 4, 0, 4, 4, 4,\n",
       "       4, 0, 4, 0, 4, 4, 4, 1, 4, 4, 0, 4, 3, 0, 4, 4, 4, 4, 4, 0, 0, 0,\n",
       "       4, 0, 4, 4, 4, 0, 0, 4, 0, 4, 0, 4, 4, 0, 4, 4, 4, 0, 4, 0, 4, 4,\n",
       "       0, 4, 0, 4, 0, 4, 4, 0, 0, 4, 0, 4, 4, 0, 4, 0, 4, 4, 4, 0, 4, 4,\n",
       "       4, 4, 4, 4, 0, 4, 4, 4, 4, 4, 4, 4, 4, 0, 4, 3, 0, 4, 4, 4, 4, 4,\n",
       "       0, 0, 4, 4, 0, 4, 0, 4, 4, 0, 0, 4, 3, 3, 4, 4, 0, 4, 4, 0, 3, 4,\n",
       "       4, 0, 0, 4, 4, 4, 4, 0, 0, 0, 3, 0, 0, 4, 0, 0, 0, 0, 0, 0, 0, 2,\n",
       "       4, 0, 0, 0, 0, 4, 0, 0, 0, 0, 0, 2, 0, 0, 0, 0, 0, 0, 0, 0, 0, 4,\n",
       "       0, 0, 4, 0, 2, 0, 0, 4, 0, 4, 0, 0, 4, 0, 0, 3, 4, 4, 0, 0, 0, 0,\n",
       "       0, 0, 4, 4, 0, 0, 0, 4, 0, 0, 1, 0, 0, 0, 0, 0, 0, 0, 4, 0, 4, 0,\n",
       "       0, 0, 0, 1, 0, 0, 4, 0, 0, 0, 0, 0, 0, 0, 0, 0, 0, 0, 0, 0, 0, 0,\n",
       "       0, 0, 0, 0, 0, 0, 0, 0, 0, 0, 4, 4, 0, 0, 0, 4, 0, 0, 3, 0, 0, 0,\n",
       "       4, 0, 4, 0, 0, 0, 0, 0, 4, 0, 4, 0, 0, 0, 0, 0, 0, 0, 0, 0, 0, 0,\n",
       "       0, 0, 0, 0, 4, 4, 0, 0, 0, 0, 0, 2, 0, 0, 0, 0, 0, 0, 0, 0, 1, 0,\n",
       "       0, 0, 0, 0, 4, 0, 0, 0, 0, 0, 0, 0, 0, 0, 0, 0, 0, 4, 0, 0, 0, 4,\n",
       "       0, 0, 0, 0, 0, 0, 0, 0, 0, 0, 0, 0, 0, 1, 0, 0, 0, 4, 0, 0, 0, 4,\n",
       "       0, 4, 0, 4, 0, 0, 4, 0, 2, 0, 0, 0, 4, 4, 4, 4, 4, 0, 4, 0, 0, 0,\n",
       "       4, 0, 4, 4, 4, 4, 0, 4, 3, 4, 0, 4, 4, 0, 0, 0, 1, 0, 4, 0, 0, 4,\n",
       "       4, 3, 4, 4, 4, 4, 0, 4, 0, 0, 0, 0, 0, 0, 0, 0, 4, 4, 4, 0, 4, 0,\n",
       "       4, 4, 0, 4, 4, 4, 0, 4, 0, 4, 4, 0, 4, 4, 2, 0, 4, 4, 4, 2, 3, 4,\n",
       "       4, 4, 4, 0, 3, 4, 0, 4, 4, 4, 4, 4, 4, 4, 4, 0, 4, 3, 4, 0, 0, 4,\n",
       "       4, 4, 0, 4, 0, 0, 4, 4, 0, 0, 0, 4, 4, 0, 4, 4, 0, 4, 4, 4, 3, 4,\n",
       "       4, 4, 0, 0, 4, 4, 4, 4, 0, 0, 4, 0, 0, 4, 0, 4, 4, 4, 2, 0, 4, 4,\n",
       "       4, 4, 4, 4, 0, 4, 0, 4, 4, 4, 0, 4, 0, 4, 4, 4, 4, 0, 0, 4, 4, 0,\n",
       "       4, 4, 0, 4, 0, 4, 4, 3, 4, 4, 2, 0, 4, 0, 4, 0, 2, 4, 0, 0, 4, 4,\n",
       "       0, 4, 0, 0, 0, 4, 0, 4, 4, 2, 4, 4, 4, 0, 4, 4, 4, 4, 4, 4, 4, 4,\n",
       "       4, 0, 4, 0, 3, 0, 4, 4, 4, 4, 0, 0, 0, 0, 0, 0, 4, 0, 4, 4, 0, 0,\n",
       "       4, 4, 3, 4, 4, 4, 4, 4, 4, 4, 4, 4, 4, 4, 4, 4, 4, 4, 4, 3, 0, 4,\n",
       "       0, 0, 0, 0, 4, 4, 4, 4, 3, 4, 4, 0, 3, 0, 0, 0, 4, 0, 4, 3, 0, 0,\n",
       "       0, 0, 0, 0, 0, 1, 3, 0, 0, 0, 0, 3, 0, 0, 0])"
      ]
     },
     "execution_count": 54,
     "metadata": {},
     "output_type": "execute_result"
    }
   ],
   "source": [
    "preds = np.argmax(predictions, axis=-1)\n",
    "preds"
   ]
  },
  {
   "cell_type": "code",
   "execution_count": 55,
   "metadata": {},
   "outputs": [
    {
     "data": {
      "text/plain": [
       "array([4, 4, 4, 4, 4, 4, 4, 4, 4, 4, 4, 4, 4, 4, 4, 4, 4, 4, 4, 4, 4, 4,\n",
       "       4, 4, 4, 4, 4, 4, 4, 4, 4, 4, 4, 4, 4, 4, 4, 4, 4, 4, 4, 4, 4, 4,\n",
       "       4, 4, 4, 4, 4, 4, 4, 4, 4, 4, 4, 4, 4, 4, 4, 4, 4, 4, 4, 4, 4, 4,\n",
       "       4, 4, 4, 4, 4, 4, 4, 4, 4, 4, 4, 4, 4, 4, 4, 4, 4, 4, 4, 4, 4, 4,\n",
       "       4, 4, 4, 4, 4, 4, 4, 4, 4, 4, 4, 4, 4, 4, 4, 4, 4, 4, 4, 4, 4, 4,\n",
       "       4, 4, 4, 4, 4, 4, 4, 4, 4, 4, 4, 4, 4, 4, 4, 4, 4, 4, 4, 4, 4, 4,\n",
       "       4, 4, 4, 4, 4, 4, 4, 4, 4, 4, 4, 4, 4, 4, 4, 4, 4, 4, 4, 4, 4, 4,\n",
       "       4, 4, 4, 4, 4, 4, 4, 4, 4, 4, 4, 4, 4, 4, 4, 4, 4, 4, 4, 4, 4, 4,\n",
       "       4, 4, 4, 4, 4, 4, 4, 4, 4, 4, 4, 4, 4, 4, 4, 4, 4, 4, 4, 4, 4, 4,\n",
       "       4, 4, 4, 4, 4, 4, 4, 4, 4, 4, 4, 4, 4, 4, 4, 4, 4, 4, 4, 4, 4, 4,\n",
       "       4, 4, 4, 4, 4, 4, 0, 0, 0, 0, 0, 0, 0, 0, 0, 0, 0, 0, 0, 0, 0, 0,\n",
       "       0, 0, 0, 0, 0, 0, 0, 0, 0, 0, 0, 0, 0, 0, 0, 0, 0, 0, 0, 0, 0, 0,\n",
       "       0, 0, 0, 0, 0, 0, 0, 0, 0, 0, 0, 0, 0, 0, 0, 0, 0, 0, 0, 0, 0, 0,\n",
       "       0, 0, 0, 0, 0, 0, 0, 0, 0, 0, 0, 0, 0, 0, 0, 0, 0, 0, 0, 0, 0, 0,\n",
       "       0, 0, 0, 0, 0, 0, 0, 0, 0, 0, 0, 0, 0, 0, 0, 0, 0, 0, 0, 0, 0, 0,\n",
       "       0, 0, 0, 0, 0, 0, 0, 0, 0, 0, 0, 0, 0, 0, 0, 0, 0, 0, 0, 0, 0, 0,\n",
       "       0, 0, 0, 0, 0, 0, 0, 0, 0, 0, 0, 0, 0, 0, 0, 0, 0, 0, 0, 0, 0, 0,\n",
       "       0, 0, 0, 0, 0, 0, 0, 0, 0, 0, 0, 0, 0, 0, 0, 0, 0, 0, 0, 0, 0, 0,\n",
       "       0, 0, 0, 0, 0, 0, 0, 0, 0, 0, 0, 0, 0, 0, 0, 0, 0, 0, 0, 0, 0, 0,\n",
       "       0, 0, 0, 0, 0, 0, 0, 0, 0, 0, 0, 0, 0, 0, 0, 0, 0, 0, 0, 0, 0, 0,\n",
       "       0, 0, 0, 0, 0, 0, 0, 0, 0, 0, 0, 0, 0, 0, 0, 0, 0, 0, 0, 0, 0, 0,\n",
       "       0, 0, 0, 0, 0, 0, 0, 0, 0, 0, 0, 2, 2, 2, 2, 2, 2, 2, 2, 2, 2, 2,\n",
       "       2, 2, 2, 2, 2, 2, 2, 2, 2, 2, 2, 2, 2, 2, 2, 2, 2, 2, 2, 2, 2, 2,\n",
       "       2, 2, 2, 2, 2, 2, 2, 2, 2, 2, 2, 2, 2, 2, 2, 2, 2, 2, 2, 2, 2, 2,\n",
       "       2, 2, 2, 2, 2, 2, 2, 2, 2, 2, 2, 2, 2, 2, 2, 2, 2, 2, 2, 2, 2, 2,\n",
       "       2, 2, 2, 2, 2, 2, 2, 2, 2, 2, 2, 2, 2, 2, 2, 2, 2, 2, 2, 2, 2, 2,\n",
       "       2, 2, 2, 2, 2, 2, 2, 2, 2, 2, 2, 2, 2, 2, 2, 2, 2, 2, 2, 2, 2, 2,\n",
       "       2, 2, 2, 2, 2, 2, 2, 2, 2, 2, 2, 2, 2, 2, 2, 2, 2, 2, 2, 2, 2, 2,\n",
       "       2, 2, 2, 2, 2, 2, 2, 2, 2, 2, 2, 2, 2, 2, 2, 2, 2, 2, 2, 2, 2, 2,\n",
       "       2, 2, 2, 2, 2, 2, 2, 2, 2, 2, 2, 2, 2, 2, 2, 2, 2, 2, 2, 2, 2, 2,\n",
       "       2, 2, 2, 2, 2, 2, 2, 2, 2, 2, 2, 2, 2, 2, 2, 2, 2, 2, 2, 2, 2, 2,\n",
       "       2, 2, 2, 2, 2, 2, 2, 2, 2, 2, 2, 2, 2, 2, 2, 2, 2, 3, 3, 3, 3, 3,\n",
       "       3, 3, 3, 3, 3, 3, 3, 3, 3, 3, 3, 3, 3, 3, 3, 3, 1, 1, 1, 1, 1, 1,\n",
       "       1, 1, 1, 1, 1, 1, 1, 1, 1, 1, 1, 1, 1, 1, 1])"
      ]
     },
     "execution_count": 55,
     "metadata": {},
     "output_type": "execute_result"
    }
   ],
   "source": [
    "labels"
   ]
  },
  {
   "cell_type": "code",
   "execution_count": 56,
   "metadata": {},
   "outputs": [
    {
     "data": {
      "text/plain": [
       "{'PV': 335, 'Garnett': 359, 'Katz': 12, 'McDuff': 28, 'Hogarth': 7}"
      ]
     },
     "execution_count": 56,
     "metadata": {},
     "output_type": "execute_result"
    }
   ],
   "source": [
    "translators = [id2label[l] for l in preds]\n",
    "\n",
    "pred_count = {}\n",
    "for i in label2id.keys():\n",
    "    count = translators.count(i)\n",
    "    pred_count[i] = count\n",
    "\n",
    "pred_count"
   ]
  },
  {
   "cell_type": "code",
   "execution_count": 57,
   "metadata": {},
   "outputs": [
    {
     "data": {
      "image/png": "[encoded data removed]",
      "text/plain": [
       "<Figure size 1000x500 with 1 Axes>"
      ]
     },
     "metadata": {},
     "output_type": "display_data"
    }
   ],
   "source": [
    "import matplotlib.pyplot as plt\n",
    "\n",
    "\n",
    "courses = list(pred_count.keys())\n",
    "values = list(pred_count.values())\n",
    "  \n",
    "fig = plt.figure(figsize = (10, 5))\n",
    " \n",
    "# creating the bar plot\n",
    "plt.bar(courses, values, width = 0.4)\n",
    "plt.title(\"Predicted Distribution\")\n",
    "plt.show()"
   ]
  },
  {
   "cell_type": "code",
   "execution_count": 58,
   "metadata": {},
   "outputs": [
    {
     "data": {
      "text/plain": [
       "{'PV': 226, 'Garnett': 247, 'Katz': 226, 'McDuff': 21, 'Hogarth': 21}"
      ]
     },
     "execution_count": 58,
     "metadata": {},
     "output_type": "execute_result"
    }
   ],
   "source": [
    "true_count = {}\n",
    "for i in id2label.keys():\n",
    "    count = test_labels.count(i)\n",
    "    true_count[id2label[i]] = count\n",
    "\n",
    "true_count"
   ]
  },
  {
   "cell_type": "code",
   "execution_count": 59,
   "metadata": {},
   "outputs": [
    {
     "data": {
      "image/png": "[encoded data removed]",
      "text/plain": [
       "<Figure size 1000x500 with 1 Axes>"
      ]
     },
     "metadata": {},
     "output_type": "display_data"
    }
   ],
   "source": [
    "courses = list(true_count.keys())\n",
    "values = list(true_count.values())\n",
    "  \n",
    "fig2 = plt.figure(figsize = (10, 5))\n",
    " \n",
    "# creating the bar plot\n",
    "plt.bar(courses, values, width = 0.4)\n",
    "plt.title(\"Actual Distribution\")\n",
    "plt.show()"
   ]
  },
  {
   "cell_type": "code",
   "execution_count": 60,
   "metadata": {},
   "outputs": [
    {
     "data": {
      "image/png": "[encoded data removed]",
      "text/plain": [
       "<Figure size 640x480 with 2 Axes>"
      ]
     },
     "metadata": {},
     "output_type": "display_data"
    }
   ],
   "source": [
    "import matplotlib.pyplot as plt\n",
    "import numpy\n",
    "from sklearn import metrics\n",
    "\n",
    "confusion_matrix = metrics.confusion_matrix(labels, preds, normalize='true')\n",
    "\n",
    "cm_display = metrics.ConfusionMatrixDisplay(confusion_matrix = confusion_matrix, display_labels=label2id)\n",
    "cm_display.plot()\n",
    "plt.show()"
   ]
  },
  {
   "cell_type": "code",
   "execution_count": 61,
   "metadata": {},
   "outputs": [],
   "source": [
    "# idiom lookup: search russian and english datasets for idioms\n",
    "# english idiom dataset"
   ]
  }
 ],
 "metadata": {
  "kernelspec": {
   "display_name": "base",
   "language": "python",
   "name": "python3"
  },
  "language_info": {
   "codemirror_mode": {
    "name": "ipython",
    "version": 3
   },
   "file_extension": ".py",
   "mimetype": "text/x-python",
   "name": "python",
   "nbconvert_exporter": "python",
   "pygments_lexer": "ipython3",
   "version": "3.11.7"
  }
 },
 "nbformat": 4,
 "nbformat_minor": 2
}
